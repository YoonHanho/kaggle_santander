{
 "cells": [
  {
   "cell_type": "markdown",
   "metadata": {},
   "source": [
    "### 캐글 산탄데르 은행 금융상품 추천 모델링 - Baseline model 사례 연구"
   ]
  },
  {
   "cell_type": "markdown",
   "metadata": {},
   "source": [
    "### Baseline model이란?\n",
    "\n",
    "- Baseline model은 일반적인 머신러닝 파이프라인의 모든 과정을 포함하는 가장 기초적 모델\n",
    "- 머신러닝 파이프라인의 일반적인 순서  \n",
    "  1. 데이터 전처리\n",
    "  2. 피처 엔지니어링\n",
    "  3. 머신러닝 모델 학습\n",
    "  4. 테스트 데이터 예측 및 캐글 업로드"
   ]
  },
  {
   "cell_type": "markdown",
   "metadata": {},
   "source": [
    "<img src='images/data_flow.jpg'>"
   ]
  },
  {
   "cell_type": "code",
   "execution_count": 1,
   "metadata": {},
   "outputs": [],
   "source": [
    "import pandas as pd\n",
    "import numpy as np\n",
    "\n",
    "# !pip install xgboost\n",
    "import xgboost as xgb\n",
    "\n",
    "from pytz import timezone\n",
    "import datetime"
   ]
  },
  {
   "cell_type": "code",
   "execution_count": 2,
   "metadata": {},
   "outputs": [],
   "source": [
    "# 집계 함수\n",
    "def value_counts_add_percent(ser):\n",
    "    df = pd.DataFrame({'count':ser.value_counts(dropna=False),\n",
    "                     'percent':ser.value_counts(dropna=False) / len(ser) * 100})\n",
    "    return df"
   ]
  },
  {
   "cell_type": "code",
   "execution_count": 3,
   "metadata": {},
   "outputs": [
    {
     "name": "stderr",
     "output_type": "stream",
     "text": [
      "C:\\ProgramData\\Anaconda3\\lib\\site-packages\\IPython\\core\\interactiveshell.py:2717: DtypeWarning: Columns (5,8,11,15) have mixed types. Specify dtype option on import or set low_memory=False.\n",
      "  interactivity=interactivity, compiler=compiler, result=result)\n",
      "C:\\ProgramData\\Anaconda3\\lib\\site-packages\\IPython\\core\\interactiveshell.py:2717: DtypeWarning: Columns (15) have mixed types. Specify dtype option on import or set low_memory=False.\n",
      "  interactivity=interactivity, compiler=compiler, result=result)\n"
     ]
    }
   ],
   "source": [
    "# 데이터를 불러온다. \n",
    "np.random.seed(2018)\n",
    "\n",
    "trn = pd.read_csv('train_ver2.csv')\n",
    "tst = pd.read_csv('test_ver2.csv')"
   ]
  },
  {
   "cell_type": "code",
   "execution_count": 12,
   "metadata": {},
   "outputs": [
    {
     "name": "stdout",
     "output_type": "stream",
     "text": [
      "train :  (13647309, 48)\n",
      "test  :  (929615, 24)\n"
     ]
    }
   ],
   "source": [
    "# 데이터 크기, 메모리 사이즈 체크\n",
    "print(\"train : \", trn.shape)\n",
    "print(\"test  : \", tst.shape)\n",
    "#print(trn.info())  #--> 4.9G (리눅스에서 읽어들일때 보다 파일이 두배는 크다)\n",
    "#print(tst.info())  #--> 170M"
   ]
  },
  {
   "cell_type": "markdown",
   "metadata": {},
   "source": [
    "검증용 데이터는 상품여부(타겟변수)가 없다. 나중에 훈련데이터와 합친 후 결측값은 0으로 다 채운다."
   ]
  },
  {
   "cell_type": "code",
   "execution_count": 4,
   "metadata": {},
   "outputs": [
    {
     "name": "stdout",
     "output_type": "stream",
     "text": [
      "train :  (13647309, 48)\n"
     ]
    },
    {
     "data": {
      "text/html": [
       "<div>\n",
       "<style scoped>\n",
       "    .dataframe tbody tr th:only-of-type {\n",
       "        vertical-align: middle;\n",
       "    }\n",
       "\n",
       "    .dataframe tbody tr th {\n",
       "        vertical-align: top;\n",
       "    }\n",
       "\n",
       "    .dataframe thead th {\n",
       "        text-align: right;\n",
       "    }\n",
       "</style>\n",
       "<table border=\"1\" class=\"dataframe\">\n",
       "  <thead>\n",
       "    <tr style=\"text-align: right;\">\n",
       "      <th></th>\n",
       "      <th>fecha_dato</th>\n",
       "      <th>ncodpers</th>\n",
       "      <th>ind_empleado</th>\n",
       "      <th>pais_residencia</th>\n",
       "      <th>sexo</th>\n",
       "      <th>age</th>\n",
       "      <th>fecha_alta</th>\n",
       "      <th>ind_nuevo</th>\n",
       "      <th>antiguedad</th>\n",
       "      <th>indrel</th>\n",
       "      <th>...</th>\n",
       "      <th>ind_hip_fin_ult1</th>\n",
       "      <th>ind_plan_fin_ult1</th>\n",
       "      <th>ind_pres_fin_ult1</th>\n",
       "      <th>ind_reca_fin_ult1</th>\n",
       "      <th>ind_tjcr_fin_ult1</th>\n",
       "      <th>ind_valo_fin_ult1</th>\n",
       "      <th>ind_viv_fin_ult1</th>\n",
       "      <th>ind_nomina_ult1</th>\n",
       "      <th>ind_nom_pens_ult1</th>\n",
       "      <th>ind_recibo_ult1</th>\n",
       "    </tr>\n",
       "  </thead>\n",
       "  <tbody>\n",
       "    <tr>\n",
       "      <th>13647304</th>\n",
       "      <td>2016-05-28</td>\n",
       "      <td>1166765</td>\n",
       "      <td>N</td>\n",
       "      <td>ES</td>\n",
       "      <td>V</td>\n",
       "      <td>22</td>\n",
       "      <td>2013-08-14</td>\n",
       "      <td>0.0</td>\n",
       "      <td>33</td>\n",
       "      <td>1.0</td>\n",
       "      <td>...</td>\n",
       "      <td>0</td>\n",
       "      <td>0</td>\n",
       "      <td>0</td>\n",
       "      <td>0</td>\n",
       "      <td>0</td>\n",
       "      <td>0</td>\n",
       "      <td>0</td>\n",
       "      <td>0.0</td>\n",
       "      <td>0.0</td>\n",
       "      <td>0</td>\n",
       "    </tr>\n",
       "    <tr>\n",
       "      <th>13647305</th>\n",
       "      <td>2016-05-28</td>\n",
       "      <td>1166764</td>\n",
       "      <td>N</td>\n",
       "      <td>ES</td>\n",
       "      <td>V</td>\n",
       "      <td>23</td>\n",
       "      <td>2013-08-14</td>\n",
       "      <td>0.0</td>\n",
       "      <td>33</td>\n",
       "      <td>1.0</td>\n",
       "      <td>...</td>\n",
       "      <td>0</td>\n",
       "      <td>0</td>\n",
       "      <td>0</td>\n",
       "      <td>0</td>\n",
       "      <td>0</td>\n",
       "      <td>0</td>\n",
       "      <td>0</td>\n",
       "      <td>0.0</td>\n",
       "      <td>0.0</td>\n",
       "      <td>0</td>\n",
       "    </tr>\n",
       "    <tr>\n",
       "      <th>13647306</th>\n",
       "      <td>2016-05-28</td>\n",
       "      <td>1166763</td>\n",
       "      <td>N</td>\n",
       "      <td>ES</td>\n",
       "      <td>H</td>\n",
       "      <td>47</td>\n",
       "      <td>2013-08-14</td>\n",
       "      <td>0.0</td>\n",
       "      <td>33</td>\n",
       "      <td>1.0</td>\n",
       "      <td>...</td>\n",
       "      <td>0</td>\n",
       "      <td>0</td>\n",
       "      <td>0</td>\n",
       "      <td>0</td>\n",
       "      <td>0</td>\n",
       "      <td>0</td>\n",
       "      <td>0</td>\n",
       "      <td>0.0</td>\n",
       "      <td>0.0</td>\n",
       "      <td>0</td>\n",
       "    </tr>\n",
       "    <tr>\n",
       "      <th>13647307</th>\n",
       "      <td>2016-05-28</td>\n",
       "      <td>1166789</td>\n",
       "      <td>N</td>\n",
       "      <td>ES</td>\n",
       "      <td>H</td>\n",
       "      <td>22</td>\n",
       "      <td>2013-08-14</td>\n",
       "      <td>0.0</td>\n",
       "      <td>33</td>\n",
       "      <td>1.0</td>\n",
       "      <td>...</td>\n",
       "      <td>0</td>\n",
       "      <td>0</td>\n",
       "      <td>0</td>\n",
       "      <td>0</td>\n",
       "      <td>0</td>\n",
       "      <td>0</td>\n",
       "      <td>0</td>\n",
       "      <td>0.0</td>\n",
       "      <td>0.0</td>\n",
       "      <td>0</td>\n",
       "    </tr>\n",
       "    <tr>\n",
       "      <th>13647308</th>\n",
       "      <td>2016-05-28</td>\n",
       "      <td>1550586</td>\n",
       "      <td>N</td>\n",
       "      <td>ES</td>\n",
       "      <td>H</td>\n",
       "      <td>37</td>\n",
       "      <td>2016-05-13</td>\n",
       "      <td>1.0</td>\n",
       "      <td>0</td>\n",
       "      <td>1.0</td>\n",
       "      <td>...</td>\n",
       "      <td>0</td>\n",
       "      <td>0</td>\n",
       "      <td>0</td>\n",
       "      <td>0</td>\n",
       "      <td>0</td>\n",
       "      <td>0</td>\n",
       "      <td>0</td>\n",
       "      <td>0.0</td>\n",
       "      <td>0.0</td>\n",
       "      <td>0</td>\n",
       "    </tr>\n",
       "  </tbody>\n",
       "</table>\n",
       "<p>5 rows × 48 columns</p>\n",
       "</div>"
      ],
      "text/plain": [
       "          fecha_dato  ncodpers ind_empleado pais_residencia sexo age  \\\n",
       "13647304  2016-05-28   1166765            N              ES    V  22   \n",
       "13647305  2016-05-28   1166764            N              ES    V  23   \n",
       "13647306  2016-05-28   1166763            N              ES    H  47   \n",
       "13647307  2016-05-28   1166789            N              ES    H  22   \n",
       "13647308  2016-05-28   1550586            N              ES    H  37   \n",
       "\n",
       "          fecha_alta  ind_nuevo antiguedad  indrel       ...         \\\n",
       "13647304  2013-08-14        0.0         33     1.0       ...          \n",
       "13647305  2013-08-14        0.0         33     1.0       ...          \n",
       "13647306  2013-08-14        0.0         33     1.0       ...          \n",
       "13647307  2013-08-14        0.0         33     1.0       ...          \n",
       "13647308  2016-05-13        1.0          0     1.0       ...          \n",
       "\n",
       "         ind_hip_fin_ult1 ind_plan_fin_ult1 ind_pres_fin_ult1  \\\n",
       "13647304                0                 0                 0   \n",
       "13647305                0                 0                 0   \n",
       "13647306                0                 0                 0   \n",
       "13647307                0                 0                 0   \n",
       "13647308                0                 0                 0   \n",
       "\n",
       "         ind_reca_fin_ult1 ind_tjcr_fin_ult1 ind_valo_fin_ult1  \\\n",
       "13647304                 0                 0                 0   \n",
       "13647305                 0                 0                 0   \n",
       "13647306                 0                 0                 0   \n",
       "13647307                 0                 0                 0   \n",
       "13647308                 0                 0                 0   \n",
       "\n",
       "         ind_viv_fin_ult1 ind_nomina_ult1  ind_nom_pens_ult1  ind_recibo_ult1  \n",
       "13647304                0             0.0                0.0                0  \n",
       "13647305                0             0.0                0.0                0  \n",
       "13647306                0             0.0                0.0                0  \n",
       "13647307                0             0.0                0.0                0  \n",
       "13647308                0             0.0                0.0                0  \n",
       "\n",
       "[5 rows x 48 columns]"
      ]
     },
     "execution_count": 4,
     "metadata": {},
     "output_type": "execute_result"
    }
   ],
   "source": [
    "print(\"train : \", trn.shape) \n",
    "trn.tail()"
   ]
  },
  {
   "cell_type": "markdown",
   "metadata": {},
   "source": [
    "---\n",
    "### 데이터 전처리  \n",
    "\n",
    "- 금융상품 결측값을 0으로 대체한다. 금융상품 보유 정보가 없으면 보유하고 있지 않다고 인정\n",
    "- 훈련 데이터와 테스트 데이터를 통합한다(날짜 기준, feha_dato). 고객프로파일 변수 24개는 공유하나, 테스트에 없는 24개 금융상품 변수는 0으로 채운다.\n",
    "- 범주형, 수치형 데이터를 전처리한다.\n",
    "  * 범주형은 factorize()으로 label Encoding  \n",
    "  * 데이터 타입이 object인 수치형 데이터는 .unique()로 특이값을 대체하거나 제거하고, 메모리를 적게 차지하는 정수형(np.int8)로 전환한다.\n",
    "- 추후 모델학습에 사용할 변수 이름을 features 리스트에 미리 담는다."
   ]
  },
  {
   "cell_type": "markdown",
   "metadata": {},
   "source": [
    "---"
   ]
  },
  {
   "cell_type": "code",
   "execution_count": 86,
   "metadata": {},
   "outputs": [
    {
     "name": "stdout",
     "output_type": "stream",
     "text": [
      "메모리 점유율 : 실수형=>80,080byte, 정수형=>10,080byte, 메모리절감율=>87.4%\n"
     ]
    }
   ],
   "source": [
    "# [참고] float, int 데이터 메모리 사이즈 체크 ... (1)\n",
    "ser_uniform = pd.Series(np.random.uniform(0, 10, 10000)) # 0~10사이의 난수를 float로 생성\n",
    "f_msize = ser_uniform.memory_usage()      \n",
    "i_msize = ser_uniform.astype(np.int8).memory_usage()     # 정수형으로 변환\n",
    "m_gap = (f_msize-i_msize)/f_msize * 100\n",
    "\n",
    "print(\"메모리 점유율 : 실수형=>{0:,}byte, 정수형=>{1:,}byte, 메모리절감율=>{2:4.1f}%\".format(f_msize, i_msize, m_gap))"
   ]
  },
  {
   "cell_type": "code",
   "execution_count": 87,
   "metadata": {},
   "outputs": [
    {
     "data": {
      "text/plain": [
       "Index         80\n",
       "int8        2000\n",
       "float64    16000\n",
       "dtype: int64"
      ]
     },
     "execution_count": 87,
     "metadata": {},
     "output_type": "execute_result"
    }
   ],
   "source": [
    "# [참고] float, int 데이터 메모리 사이즈 체크 ... (2)\n",
    "dtypes = ['int8', 'float64']\n",
    "data = dict([(t, np.ones(shape=2000).astype(t)) for t in dtypes])\n",
    "pd.DataFrame(data).memory_usage()"
   ]
  },
  {
   "cell_type": "markdown",
   "metadata": {},
   "source": [
    "##### 데이터 형식을 똑똑하게 정의하면, 메모리를 최대 90% 가까이 절약할 수 있다.  \n",
    "---"
   ]
  },
  {
   "cell_type": "code",
   "execution_count": 4,
   "metadata": {},
   "outputs": [
    {
     "data": {
      "text/plain": [
       "['ind_ahor_fin_ult1',\n",
       " 'ind_aval_fin_ult1',\n",
       " 'ind_cco_fin_ult1',\n",
       " 'ind_cder_fin_ult1',\n",
       " 'ind_cno_fin_ult1',\n",
       " 'ind_ctju_fin_ult1',\n",
       " 'ind_ctma_fin_ult1',\n",
       " 'ind_ctop_fin_ult1',\n",
       " 'ind_ctpp_fin_ult1',\n",
       " 'ind_deco_fin_ult1',\n",
       " 'ind_deme_fin_ult1',\n",
       " 'ind_dela_fin_ult1',\n",
       " 'ind_ecue_fin_ult1',\n",
       " 'ind_fond_fin_ult1',\n",
       " 'ind_hip_fin_ult1',\n",
       " 'ind_plan_fin_ult1',\n",
       " 'ind_pres_fin_ult1',\n",
       " 'ind_reca_fin_ult1',\n",
       " 'ind_tjcr_fin_ult1',\n",
       " 'ind_valo_fin_ult1',\n",
       " 'ind_viv_fin_ult1',\n",
       " 'ind_nomina_ult1',\n",
       " 'ind_nom_pens_ult1',\n",
       " 'ind_recibo_ult1']"
      ]
     },
     "execution_count": 4,
     "metadata": {},
     "output_type": "execute_result"
    }
   ],
   "source": [
    "# 타겟변수가 되는 금융상품 변수를 별도로 저장해 놓는다.\n",
    "prods = trn.columns[24:].tolist()\n",
    "prods"
   ]
  },
  {
   "cell_type": "code",
   "execution_count": 5,
   "metadata": {},
   "outputs": [],
   "source": [
    "# 금융상품 변수 결측값을 미리 0으로 대체한다.\n",
    "# 메모리를 절약하기 위해 정수형으로 저장한다. \n",
    "trn[prods] = trn[prods].fillna(0).astype(np.int8)"
   ]
  },
  {
   "cell_type": "code",
   "execution_count": null,
   "metadata": {},
   "outputs": [],
   "source": [
    "# [***꿀팁***] 24개 금융상품 중 하나도 보유하지 않는 고객 데이터는 제거한다.\n",
    "# 행(row)별로 금융상품 컬럼을 sum함수로 계산하고, 0인 경우를 bool로 처리\n",
    "no_product = trn[prods].sum(axis=1) == 0\n",
    "trn = trn[~no_product]"
   ]
  },
  {
   "cell_type": "code",
   "execution_count": 7,
   "metadata": {},
   "outputs": [
    {
     "name": "stdout",
     "output_type": "stream",
     "text": [
      "train :  (11091070, 48)\n"
     ]
    },
    {
     "data": {
      "text/html": [
       "<div>\n",
       "<style scoped>\n",
       "    .dataframe tbody tr th:only-of-type {\n",
       "        vertical-align: middle;\n",
       "    }\n",
       "\n",
       "    .dataframe tbody tr th {\n",
       "        vertical-align: top;\n",
       "    }\n",
       "\n",
       "    .dataframe thead th {\n",
       "        text-align: right;\n",
       "    }\n",
       "</style>\n",
       "<table border=\"1\" class=\"dataframe\">\n",
       "  <thead>\n",
       "    <tr style=\"text-align: right;\">\n",
       "      <th></th>\n",
       "      <th>fecha_dato</th>\n",
       "      <th>ncodpers</th>\n",
       "      <th>ind_empleado</th>\n",
       "      <th>pais_residencia</th>\n",
       "      <th>sexo</th>\n",
       "      <th>age</th>\n",
       "      <th>fecha_alta</th>\n",
       "      <th>ind_nuevo</th>\n",
       "      <th>antiguedad</th>\n",
       "      <th>indrel</th>\n",
       "      <th>...</th>\n",
       "      <th>ind_hip_fin_ult1</th>\n",
       "      <th>ind_plan_fin_ult1</th>\n",
       "      <th>ind_pres_fin_ult1</th>\n",
       "      <th>ind_reca_fin_ult1</th>\n",
       "      <th>ind_tjcr_fin_ult1</th>\n",
       "      <th>ind_valo_fin_ult1</th>\n",
       "      <th>ind_viv_fin_ult1</th>\n",
       "      <th>ind_nomina_ult1</th>\n",
       "      <th>ind_nom_pens_ult1</th>\n",
       "      <th>ind_recibo_ult1</th>\n",
       "    </tr>\n",
       "  </thead>\n",
       "  <tbody>\n",
       "    <tr>\n",
       "      <th>13647304</th>\n",
       "      <td>2016-05-28</td>\n",
       "      <td>1166765</td>\n",
       "      <td>N</td>\n",
       "      <td>ES</td>\n",
       "      <td>V</td>\n",
       "      <td>22</td>\n",
       "      <td>2013-08-14</td>\n",
       "      <td>0.0</td>\n",
       "      <td>33</td>\n",
       "      <td>1.0</td>\n",
       "      <td>...</td>\n",
       "      <td>0</td>\n",
       "      <td>0</td>\n",
       "      <td>0</td>\n",
       "      <td>0</td>\n",
       "      <td>0</td>\n",
       "      <td>0</td>\n",
       "      <td>0</td>\n",
       "      <td>0</td>\n",
       "      <td>0</td>\n",
       "      <td>0</td>\n",
       "    </tr>\n",
       "    <tr>\n",
       "      <th>13647305</th>\n",
       "      <td>2016-05-28</td>\n",
       "      <td>1166764</td>\n",
       "      <td>N</td>\n",
       "      <td>ES</td>\n",
       "      <td>V</td>\n",
       "      <td>23</td>\n",
       "      <td>2013-08-14</td>\n",
       "      <td>0.0</td>\n",
       "      <td>33</td>\n",
       "      <td>1.0</td>\n",
       "      <td>...</td>\n",
       "      <td>0</td>\n",
       "      <td>0</td>\n",
       "      <td>0</td>\n",
       "      <td>0</td>\n",
       "      <td>0</td>\n",
       "      <td>0</td>\n",
       "      <td>0</td>\n",
       "      <td>0</td>\n",
       "      <td>0</td>\n",
       "      <td>0</td>\n",
       "    </tr>\n",
       "    <tr>\n",
       "      <th>13647306</th>\n",
       "      <td>2016-05-28</td>\n",
       "      <td>1166763</td>\n",
       "      <td>N</td>\n",
       "      <td>ES</td>\n",
       "      <td>H</td>\n",
       "      <td>47</td>\n",
       "      <td>2013-08-14</td>\n",
       "      <td>0.0</td>\n",
       "      <td>33</td>\n",
       "      <td>1.0</td>\n",
       "      <td>...</td>\n",
       "      <td>0</td>\n",
       "      <td>0</td>\n",
       "      <td>0</td>\n",
       "      <td>0</td>\n",
       "      <td>0</td>\n",
       "      <td>0</td>\n",
       "      <td>0</td>\n",
       "      <td>0</td>\n",
       "      <td>0</td>\n",
       "      <td>0</td>\n",
       "    </tr>\n",
       "    <tr>\n",
       "      <th>13647307</th>\n",
       "      <td>2016-05-28</td>\n",
       "      <td>1166789</td>\n",
       "      <td>N</td>\n",
       "      <td>ES</td>\n",
       "      <td>H</td>\n",
       "      <td>22</td>\n",
       "      <td>2013-08-14</td>\n",
       "      <td>0.0</td>\n",
       "      <td>33</td>\n",
       "      <td>1.0</td>\n",
       "      <td>...</td>\n",
       "      <td>0</td>\n",
       "      <td>0</td>\n",
       "      <td>0</td>\n",
       "      <td>0</td>\n",
       "      <td>0</td>\n",
       "      <td>0</td>\n",
       "      <td>0</td>\n",
       "      <td>0</td>\n",
       "      <td>0</td>\n",
       "      <td>0</td>\n",
       "    </tr>\n",
       "    <tr>\n",
       "      <th>13647308</th>\n",
       "      <td>2016-05-28</td>\n",
       "      <td>1550586</td>\n",
       "      <td>N</td>\n",
       "      <td>ES</td>\n",
       "      <td>H</td>\n",
       "      <td>37</td>\n",
       "      <td>2016-05-13</td>\n",
       "      <td>1.0</td>\n",
       "      <td>0</td>\n",
       "      <td>1.0</td>\n",
       "      <td>...</td>\n",
       "      <td>0</td>\n",
       "      <td>0</td>\n",
       "      <td>0</td>\n",
       "      <td>0</td>\n",
       "      <td>0</td>\n",
       "      <td>0</td>\n",
       "      <td>0</td>\n",
       "      <td>0</td>\n",
       "      <td>0</td>\n",
       "      <td>0</td>\n",
       "    </tr>\n",
       "  </tbody>\n",
       "</table>\n",
       "<p>5 rows × 48 columns</p>\n",
       "</div>"
      ],
      "text/plain": [
       "          fecha_dato  ncodpers ind_empleado pais_residencia sexo age  \\\n",
       "13647304  2016-05-28   1166765            N              ES    V  22   \n",
       "13647305  2016-05-28   1166764            N              ES    V  23   \n",
       "13647306  2016-05-28   1166763            N              ES    H  47   \n",
       "13647307  2016-05-28   1166789            N              ES    H  22   \n",
       "13647308  2016-05-28   1550586            N              ES    H  37   \n",
       "\n",
       "          fecha_alta  ind_nuevo antiguedad  indrel       ...         \\\n",
       "13647304  2013-08-14        0.0         33     1.0       ...          \n",
       "13647305  2013-08-14        0.0         33     1.0       ...          \n",
       "13647306  2013-08-14        0.0         33     1.0       ...          \n",
       "13647307  2013-08-14        0.0         33     1.0       ...          \n",
       "13647308  2016-05-13        1.0          0     1.0       ...          \n",
       "\n",
       "         ind_hip_fin_ult1 ind_plan_fin_ult1 ind_pres_fin_ult1  \\\n",
       "13647304                0                 0                 0   \n",
       "13647305                0                 0                 0   \n",
       "13647306                0                 0                 0   \n",
       "13647307                0                 0                 0   \n",
       "13647308                0                 0                 0   \n",
       "\n",
       "         ind_reca_fin_ult1 ind_tjcr_fin_ult1 ind_valo_fin_ult1  \\\n",
       "13647304                 0                 0                 0   \n",
       "13647305                 0                 0                 0   \n",
       "13647306                 0                 0                 0   \n",
       "13647307                 0                 0                 0   \n",
       "13647308                 0                 0                 0   \n",
       "\n",
       "         ind_viv_fin_ult1 ind_nomina_ult1  ind_nom_pens_ult1  ind_recibo_ult1  \n",
       "13647304                0               0                  0                0  \n",
       "13647305                0               0                  0                0  \n",
       "13647306                0               0                  0                0  \n",
       "13647307                0               0                  0                0  \n",
       "13647308                0               0                  0                0  \n",
       "\n",
       "[5 rows x 48 columns]"
      ]
     },
     "execution_count": 7,
     "metadata": {},
     "output_type": "execute_result"
    }
   ],
   "source": [
    "print(\"train : \", trn.shape)\n",
    "trn.tail()"
   ]
  },
  {
   "cell_type": "markdown",
   "metadata": {},
   "source": [
    "#### 학습데이터에서 금융상품 신규매수가 없는 경우를 제외하였더니 13,647,309건에서 11,091,070건으로 줄었다. "
   ]
  },
  {
   "cell_type": "markdown",
   "metadata": {},
   "source": [
    "---\n",
    "### 훈련데이터와 테스트 데이터를 통합하고, 범주형 변수는 label encogind한다"
   ]
  },
  {
   "cell_type": "markdown",
   "metadata": {},
   "source": [
    "`# 참고 : pandas factorize 함수(na_sentinel=-99은 결측치 처리)  \n",
    "labels, uniques = pd.factorize(['b', None, 'a', 'c', 'b'])  \n",
    "labels\n",
    "-> array([ 0, -1,  1,  2,  0])\n",
    "uniques\n",
    "-> array(['b', 'a', 'c'], dtype=object)`"
   ]
  },
  {
   "cell_type": "code",
   "execution_count": 6,
   "metadata": {},
   "outputs": [],
   "source": [
    "# 테스트 데이터에 없는 금융상품 변수는 0으로 대체한다.\n",
    "for col in trn.columns[24:]:\n",
    "    tst[col] = 0\n",
    "    \n",
    "# 훈련데이터와 테스트데이터를 합친 df를 만든다.     \n",
    "df = pd.concat([trn, tst], axis=0)"
   ]
  },
  {
   "cell_type": "code",
   "execution_count": 7,
   "metadata": {},
   "outputs": [],
   "source": [
    "# 학습에 사용할 변수를 담는 list\n",
    "features = []\n",
    "\n",
    "# 범주형 변수를 .factorize() 함수로 label encoding 한다.\n",
    "categorical_cols = ['ind_empleado', 'pais_residencia', 'sexo', 'tiprel_1mes', 'indresi',\n",
    "                    'indext', 'conyuemp', 'canal_entrada', 'indfall', 'tipodom', 'nomprov', 'segmento']\n",
    "for col in categorical_cols:\n",
    "    df[col], _ = df[col].factorize(na_sentinel=-99)  # 결측은 -99처리\n",
    "features += categorical_cols"
   ]
  },
  {
   "cell_type": "markdown",
   "metadata": {},
   "source": [
    "의문점!!!! 왜 -99로 대체할까? "
   ]
  },
  {
   "cell_type": "code",
   "execution_count": 10,
   "metadata": {},
   "outputs": [
    {
     "data": {
      "text/html": [
       "<div>\n",
       "<style scoped>\n",
       "    .dataframe tbody tr th:only-of-type {\n",
       "        vertical-align: middle;\n",
       "    }\n",
       "\n",
       "    .dataframe tbody tr th {\n",
       "        vertical-align: top;\n",
       "    }\n",
       "\n",
       "    .dataframe thead th {\n",
       "        text-align: right;\n",
       "    }\n",
       "</style>\n",
       "<table border=\"1\" class=\"dataframe\">\n",
       "  <thead>\n",
       "    <tr style=\"text-align: right;\">\n",
       "      <th></th>\n",
       "      <th>fecha_dato</th>\n",
       "      <th>ncodpers</th>\n",
       "      <th>ind_empleado</th>\n",
       "      <th>pais_residencia</th>\n",
       "      <th>sexo</th>\n",
       "      <th>age</th>\n",
       "      <th>fecha_alta</th>\n",
       "      <th>ind_nuevo</th>\n",
       "      <th>antiguedad</th>\n",
       "      <th>indrel</th>\n",
       "      <th>...</th>\n",
       "      <th>ind_hip_fin_ult1</th>\n",
       "      <th>ind_plan_fin_ult1</th>\n",
       "      <th>ind_pres_fin_ult1</th>\n",
       "      <th>ind_reca_fin_ult1</th>\n",
       "      <th>ind_tjcr_fin_ult1</th>\n",
       "      <th>ind_valo_fin_ult1</th>\n",
       "      <th>ind_viv_fin_ult1</th>\n",
       "      <th>ind_nomina_ult1</th>\n",
       "      <th>ind_nom_pens_ult1</th>\n",
       "      <th>ind_recibo_ult1</th>\n",
       "    </tr>\n",
       "  </thead>\n",
       "  <tbody>\n",
       "    <tr>\n",
       "      <th>929610</th>\n",
       "      <td>2016-06-28</td>\n",
       "      <td>660237</td>\n",
       "      <td>0</td>\n",
       "      <td>0</td>\n",
       "      <td>1</td>\n",
       "      <td>55</td>\n",
       "      <td>1999-04-21</td>\n",
       "      <td>0.0</td>\n",
       "      <td>206</td>\n",
       "      <td>1.0</td>\n",
       "      <td>...</td>\n",
       "      <td>0</td>\n",
       "      <td>0</td>\n",
       "      <td>0</td>\n",
       "      <td>0</td>\n",
       "      <td>0</td>\n",
       "      <td>0</td>\n",
       "      <td>0</td>\n",
       "      <td>0</td>\n",
       "      <td>0</td>\n",
       "      <td>0</td>\n",
       "    </tr>\n",
       "    <tr>\n",
       "      <th>929611</th>\n",
       "      <td>2016-06-28</td>\n",
       "      <td>660238</td>\n",
       "      <td>0</td>\n",
       "      <td>0</td>\n",
       "      <td>1</td>\n",
       "      <td>30</td>\n",
       "      <td>2006-11-29</td>\n",
       "      <td>0.0</td>\n",
       "      <td>115</td>\n",
       "      <td>1.0</td>\n",
       "      <td>...</td>\n",
       "      <td>0</td>\n",
       "      <td>0</td>\n",
       "      <td>0</td>\n",
       "      <td>0</td>\n",
       "      <td>0</td>\n",
       "      <td>0</td>\n",
       "      <td>0</td>\n",
       "      <td>0</td>\n",
       "      <td>0</td>\n",
       "      <td>0</td>\n",
       "    </tr>\n",
       "    <tr>\n",
       "      <th>929612</th>\n",
       "      <td>2016-06-28</td>\n",
       "      <td>660240</td>\n",
       "      <td>0</td>\n",
       "      <td>0</td>\n",
       "      <td>1</td>\n",
       "      <td>52</td>\n",
       "      <td>2006-11-29</td>\n",
       "      <td>0.0</td>\n",
       "      <td>115</td>\n",
       "      <td>1.0</td>\n",
       "      <td>...</td>\n",
       "      <td>0</td>\n",
       "      <td>0</td>\n",
       "      <td>0</td>\n",
       "      <td>0</td>\n",
       "      <td>0</td>\n",
       "      <td>0</td>\n",
       "      <td>0</td>\n",
       "      <td>0</td>\n",
       "      <td>0</td>\n",
       "      <td>0</td>\n",
       "    </tr>\n",
       "    <tr>\n",
       "      <th>929613</th>\n",
       "      <td>2016-06-28</td>\n",
       "      <td>660243</td>\n",
       "      <td>0</td>\n",
       "      <td>0</td>\n",
       "      <td>1</td>\n",
       "      <td>32</td>\n",
       "      <td>2006-11-29</td>\n",
       "      <td>0.0</td>\n",
       "      <td>115</td>\n",
       "      <td>1.0</td>\n",
       "      <td>...</td>\n",
       "      <td>0</td>\n",
       "      <td>0</td>\n",
       "      <td>0</td>\n",
       "      <td>0</td>\n",
       "      <td>0</td>\n",
       "      <td>0</td>\n",
       "      <td>0</td>\n",
       "      <td>0</td>\n",
       "      <td>0</td>\n",
       "      <td>0</td>\n",
       "    </tr>\n",
       "    <tr>\n",
       "      <th>929614</th>\n",
       "      <td>2016-06-28</td>\n",
       "      <td>660248</td>\n",
       "      <td>0</td>\n",
       "      <td>0</td>\n",
       "      <td>1</td>\n",
       "      <td>92</td>\n",
       "      <td>2006-11-29</td>\n",
       "      <td>0.0</td>\n",
       "      <td>115</td>\n",
       "      <td>1.0</td>\n",
       "      <td>...</td>\n",
       "      <td>0</td>\n",
       "      <td>0</td>\n",
       "      <td>0</td>\n",
       "      <td>0</td>\n",
       "      <td>0</td>\n",
       "      <td>0</td>\n",
       "      <td>0</td>\n",
       "      <td>0</td>\n",
       "      <td>0</td>\n",
       "      <td>0</td>\n",
       "    </tr>\n",
       "  </tbody>\n",
       "</table>\n",
       "<p>5 rows × 48 columns</p>\n",
       "</div>"
      ],
      "text/plain": [
       "        fecha_dato  ncodpers  ind_empleado  pais_residencia  sexo age  \\\n",
       "929610  2016-06-28    660237             0                0     1  55   \n",
       "929611  2016-06-28    660238             0                0     1  30   \n",
       "929612  2016-06-28    660240             0                0     1  52   \n",
       "929613  2016-06-28    660243             0                0     1  32   \n",
       "929614  2016-06-28    660248             0                0     1  92   \n",
       "\n",
       "        fecha_alta  ind_nuevo antiguedad  indrel       ...         \\\n",
       "929610  1999-04-21        0.0        206     1.0       ...          \n",
       "929611  2006-11-29        0.0        115     1.0       ...          \n",
       "929612  2006-11-29        0.0        115     1.0       ...          \n",
       "929613  2006-11-29        0.0        115     1.0       ...          \n",
       "929614  2006-11-29        0.0        115     1.0       ...          \n",
       "\n",
       "       ind_hip_fin_ult1 ind_plan_fin_ult1  ind_pres_fin_ult1  \\\n",
       "929610                0                 0                  0   \n",
       "929611                0                 0                  0   \n",
       "929612                0                 0                  0   \n",
       "929613                0                 0                  0   \n",
       "929614                0                 0                  0   \n",
       "\n",
       "        ind_reca_fin_ult1  ind_tjcr_fin_ult1  ind_valo_fin_ult1  \\\n",
       "929610                  0                  0                  0   \n",
       "929611                  0                  0                  0   \n",
       "929612                  0                  0                  0   \n",
       "929613                  0                  0                  0   \n",
       "929614                  0                  0                  0   \n",
       "\n",
       "        ind_viv_fin_ult1  ind_nomina_ult1  ind_nom_pens_ult1  ind_recibo_ult1  \n",
       "929610                 0                0                  0                0  \n",
       "929611                 0                0                  0                0  \n",
       "929612                 0                0                  0                0  \n",
       "929613                 0                0                  0                0  \n",
       "929614                 0                0                  0                0  \n",
       "\n",
       "[5 rows x 48 columns]"
      ]
     },
     "execution_count": 10,
     "metadata": {},
     "output_type": "execute_result"
    }
   ],
   "source": [
    "df.tail()"
   ]
  },
  {
   "cell_type": "markdown",
   "metadata": {},
   "source": [
    "#### [참고 ] Factorize 결과 확인"
   ]
  },
  {
   "cell_type": "code",
   "execution_count": 32,
   "metadata": {},
   "outputs": [
    {
     "data": {
      "text/plain": [
       "N    2764552\n",
       "B        755\n",
       "A        611\n",
       "F        575\n",
       "S          7\n",
       "Name: ind_empleado, dtype: int64"
      ]
     },
     "execution_count": 32,
     "metadata": {},
     "output_type": "execute_result"
    }
   ],
   "source": [
    "# factorize 처리 전 데이터\n",
    "trn['ind_empleado'].value_counts() "
   ]
  },
  {
   "cell_type": "code",
   "execution_count": 31,
   "metadata": {},
   "outputs": [
    {
     "data": {
      "text/plain": [
       " 0     3693648\n",
       "-99       5558\n",
       " 1         973\n",
       " 2         759\n",
       " 3         727\n",
       " 4           8\n",
       "Name: ind_empleado, dtype: int64"
      ]
     },
     "execution_count": 31,
     "metadata": {},
     "output_type": "execute_result"
    }
   ],
   "source": [
    "# factorize 처리 후 데이터(trn+tst라 건수가 trn보다 많음에 유의)\n",
    "df['ind_empleado'].value_counts()"
   ]
  },
  {
   "cell_type": "code",
   "execution_count": 8,
   "metadata": {},
   "outputs": [],
   "source": [
    "# 수치형 변수의 특이값과 결측값을 -99로 대체하고, 정수형으로 변환한다.\n",
    "df['age'].replace(' NA', -99, inplace=True)\n",
    "df['age'] = df['age'].astype(np.int8) \n",
    "\n",
    "df['antiguedad'].replace('     NA',-99, inplace=True)\n",
    "df['antiguedad'] = df['antiguedad'].astype(np.int8)\n",
    "\n",
    "df['renta'].replace('         NA', -99, inplace=True)\n",
    "df['renta'].fillna(-99, inplace=True)\n",
    "df['renta'] = df['renta'].astype(float).astype(np.int8)\n",
    "\n",
    "df['indrel_1mes'].replace('P', 5, inplace=True)\n",
    "df['indrel_1mes'].fillna(-99, inplace=True)\n",
    "df['indrel_1mes'] = df['indrel_1mes'].astype(float).astype(np.int8)"
   ]
  },
  {
   "cell_type": "code",
   "execution_count": 42,
   "metadata": {},
   "outputs": [
    {
     "name": "stdout",
     "output_type": "stream",
     "text": [
      "count    -87\n",
      "mean      39\n",
      "std       17\n",
      "min      -99\n",
      "25%       24\n",
      "50%       38\n",
      "75%       50\n",
      "max      127\n",
      "Name: age, dtype: int8\n",
      "\n",
      "\n",
      "count    -87\n",
      "mean       9\n",
      "std       65\n",
      "min     -128\n",
      "25%      -37\n",
      "50%       21\n",
      "75%       47\n",
      "max      127\n",
      "Name: antiguedad, dtype: int8\n",
      "\n",
      "\n",
      "count    -87\n",
      "mean     -20\n",
      "std       77\n",
      "min     -128\n",
      "25%      -99\n",
      "50%      -34\n",
      "75%       47\n",
      "max      127\n",
      "Name: renta, dtype: int8\n",
      "\n",
      "\n",
      "count   -13\n",
      "mean      0\n",
      "std       0\n",
      "min       0\n",
      "25%       0\n",
      "50%       0\n",
      "75%       0\n",
      "max       1\n",
      "Name: ind_nuevo, dtype: int8\n",
      "\n",
      "\n",
      "count   -13\n",
      "mean      1\n",
      "std       2\n",
      "min       1\n",
      "25%       1\n",
      "50%       1\n",
      "75%       1\n",
      "max      99\n",
      "Name: indrel, dtype: int8\n",
      "\n",
      "\n",
      "count   -87\n",
      "mean      0\n",
      "std       7\n",
      "min     -99\n",
      "25%       1\n",
      "50%       1\n",
      "75%       1\n",
      "max       5\n",
      "Name: indrel_1mes, dtype: int8\n",
      "\n",
      "\n",
      "count   -13\n",
      "mean      0\n",
      "std       0\n",
      "min       0\n",
      "25%       0\n",
      "50%       1\n",
      "75%       1\n",
      "max       1\n",
      "Name: ind_actividad_cliente, dtype: int8\n",
      "\n",
      "\n"
     ]
    }
   ],
   "source": [
    "# 분포를 찍어보자~! \n",
    "varlists = ['age','antiguedad','renta','ind_nuevo','indrel','indrel_1mes','ind_actividad_cliente']\n",
    "\n",
    "for var in varlists:\n",
    "    print(df[var].describe().astype(np.int8))\n",
    "    print(\"\\n\")"
   ]
  },
  {
   "cell_type": "markdown",
   "metadata": {},
   "source": [
    "**의문점!!! count가 왜 마이너스가 나올까?**"
   ]
  },
  {
   "cell_type": "code",
   "execution_count": 101,
   "metadata": {},
   "outputs": [
    {
     "data": {
      "text/plain": [
       "count      6\n",
       "mean      39\n",
       "std       16\n",
       "min        2\n",
       "25%       24\n",
       "50%       37\n",
       "75%       50\n",
       "max      117\n",
       "Name: age, dtype: int8"
      ]
     },
     "execution_count": 101,
     "metadata": {},
     "output_type": "execute_result"
    }
   ],
   "source": [
    "# 마지막에 생성되는 trn 데이터세트로 돌려보니... count 여전히 이상\n",
    "trn['age'].describe().astype(np.int8)"
   ]
  },
  {
   "cell_type": "code",
   "execution_count": 105,
   "metadata": {},
   "outputs": [
    {
     "data": {
      "text/plain": [
       "count    3.462918e+06\n",
       "mean     3.932476e+01\n",
       "std      1.693281e+01\n",
       "min      2.000000e+00\n",
       "25%      2.400000e+01\n",
       "50%      3.700000e+01\n",
       "75%      5.000000e+01\n",
       "max      1.170000e+02\n",
       "Name: age, dtype: float64"
      ]
     },
     "execution_count": 105,
     "metadata": {},
     "output_type": "execute_result"
    }
   ],
   "source": [
    "trn['age'].describe()"
   ]
  },
  {
   "cell_type": "code",
   "execution_count": 106,
   "metadata": {},
   "outputs": [
    {
     "data": {
      "text/plain": [
       "3462918.0"
      ]
     },
     "execution_count": 106,
     "metadata": {},
     "output_type": "execute_result"
    }
   ],
   "source": [
    "# count만 따로 출력해보면...\n",
    "trn['age'].describe().iloc[0]  # -> 제대로 나온다. "
   ]
  },
  {
   "cell_type": "markdown",
   "metadata": {},
   "source": [
    "count를 int로 변환하는 과정에서 describe함수가 정확한 값을 출력해주지 않는다. "
   ]
  },
  {
   "cell_type": "markdown",
   "metadata": {},
   "source": [
    "---"
   ]
  },
  {
   "cell_type": "code",
   "execution_count": 9,
   "metadata": {},
   "outputs": [],
   "source": [
    "# 학습에 사용할 수치형 변수를 features에 추가한다.\n",
    "features += ['age','antiguedad','renta','ind_nuevo','indrel','indrel_1mes','ind_actividad_cliente']"
   ]
  },
  {
   "cell_type": "code",
   "execution_count": 10,
   "metadata": {},
   "outputs": [],
   "source": [
    "# 두 날짜 변수에서 연도와 월정보를 추출한다.\n",
    "# (예) 2015-01-12 -> 연도와 월 추출\n",
    "df['fecha_alta_month'] = df['fecha_alta'].map(lambda x: 0.0 if x.__class__ is float \n",
    "                                                              else float(x.split('-')[1])).astype(np.int8)\n",
    "\n",
    "df['ult_fec_cli_1t_month'] = df['ult_fec_cli_1t'].map(lambda x: 0.0 if x.__class__ is float \n",
    "                                                              else float(x.split('-')[1])).astype(np.int8)\n",
    "\n",
    "df['ult_fec_cli_1t_year'] = df['ult_fec_cli_1t'].map(lambda x: 0.0 if x.__class__ is float \n",
    "                                                             else float(x.split('-')[0])).astype(np.int8)"
   ]
  },
  {
   "cell_type": "code",
   "execution_count": 14,
   "metadata": {},
   "outputs": [
    {
     "data": {
      "text/plain": [
       "0    2015-01-12\n",
       "1    2012-08-10\n",
       "2    2012-08-10\n",
       "Name: fecha_alta, dtype: object"
      ]
     },
     "execution_count": 14,
     "metadata": {},
     "output_type": "execute_result"
    }
   ],
   "source": [
    "df['fecha_alta'][:3]"
   ]
  },
  {
   "cell_type": "code",
   "execution_count": 15,
   "metadata": {},
   "outputs": [
    {
     "data": {
      "text/plain": [
       "0    1\n",
       "1    8\n",
       "2    8\n",
       "Name: fecha_alta_month, dtype: int8"
      ]
     },
     "execution_count": 15,
     "metadata": {},
     "output_type": "execute_result"
    }
   ],
   "source": [
    "df['fecha_alta_month'][:3]"
   ]
  },
  {
   "cell_type": "code",
   "execution_count": 16,
   "metadata": {},
   "outputs": [
    {
     "data": {
      "text/plain": [
       "0    NaN\n",
       "1    NaN\n",
       "2    NaN\n",
       "Name: ult_fec_cli_1t, dtype: object"
      ]
     },
     "execution_count": 16,
     "metadata": {},
     "output_type": "execute_result"
    }
   ],
   "source": [
    "df['ult_fec_cli_1t'][:3]   # ----> 대부분 데이터가 NaN -> 0으로 값 변환... 어떤 의미가 있을까? "
   ]
  },
  {
   "cell_type": "code",
   "execution_count": 17,
   "metadata": {},
   "outputs": [
    {
     "data": {
      "text/plain": [
       "0    0\n",
       "1    0\n",
       "2    0\n",
       "Name: ult_fec_cli_1t_month, dtype: int8"
      ]
     },
     "execution_count": 17,
     "metadata": {},
     "output_type": "execute_result"
    }
   ],
   "source": [
    "df['ult_fec_cli_1t_month'][:3]  "
   ]
  },
  {
   "cell_type": "code",
   "execution_count": 18,
   "metadata": {},
   "outputs": [
    {
     "data": {
      "text/plain": [
       "0     12013847\n",
       "7         4387\n",
       "6         1683\n",
       "2           98\n",
       "9           92\n",
       "11          85\n",
       "10          84\n",
       "3           83\n",
       "12          78\n",
       "1           72\n",
       "5           70\n",
       "8           57\n",
       "4           49\n",
       "Name: ult_fec_cli_1t_month, dtype: int64"
      ]
     },
     "execution_count": 18,
     "metadata": {},
     "output_type": "execute_result"
    }
   ],
   "source": [
    "df['ult_fec_cli_1t_month'].value_counts()"
   ]
  },
  {
   "cell_type": "code",
   "execution_count": 19,
   "metadata": {},
   "outputs": [
    {
     "data": {
      "text/plain": [
       " 0     12013847\n",
       "-33        4783\n",
       "-32        2055\n",
       "Name: ult_fec_cli_1t_year, dtype: int64"
      ]
     },
     "execution_count": 19,
     "metadata": {},
     "output_type": "execute_result"
    }
   ],
   "source": [
    "df['ult_fec_cli_1t_year'].value_counts()"
   ]
  },
  {
   "cell_type": "code",
   "execution_count": 11,
   "metadata": {},
   "outputs": [],
   "source": [
    "features += ['ult_fec_cli_1t_month', 'ult_fec_cli_1t_year']\n",
    "##### =====> 교재에는 피처에 포함하지만, 대부분 값이 결측이므로 빼는것이 타당하지 않을까? "
   ]
  },
  {
   "cell_type": "code",
   "execution_count": 12,
   "metadata": {},
   "outputs": [],
   "source": [
    "# 그 외 변수의 결측값은 모두 -99로 대체한다.\n",
    "df.fillna(-99, inplace=True)"
   ]
  },
  {
   "cell_type": "markdown",
   "metadata": {},
   "source": [
    "---\n",
    "\n",
    "### (피처엔지니어링) lag-1 데이터를 생성한다\n",
    "\n",
    "학습용 데이터가 5개월치가 이력을 가지고 있으므로 lag-5까지 가능하다.  \n",
    "baseline model에서는 lag-1만 사용한다."
   ]
  },
  {
   "cell_type": "code",
   "execution_count": 13,
   "metadata": {},
   "outputs": [],
   "source": [
    "# lag 기준 날짜(매우 중요) : lag된 데이터와 원본 데이터 merge시 고객번호와 함께 key값이 된다\n",
    "def date_to_int(str_date):\n",
    "    '''\n",
    "    날짜를 숫자로 변환하는 함수이다. \n",
    "    2015-01-28은 1, 2016-06-28은 18로 변환한다.\n",
    "    '''\n",
    "    Y, M, D = [int(a) for a in str_date.strip().split('-')]\n",
    "    int_date = (int(Y) - 2015)*12 + int(M)\n",
    "    return int_date"
   ]
  },
  {
   "cell_type": "code",
   "execution_count": 14,
   "metadata": {},
   "outputs": [],
   "source": [
    "# 날짜를 숫자로 변환하여 int_date에 저장한다. \n",
    "df['int_date'] = df['fecha_dato'].map(date_to_int).astype(np.int8)"
   ]
  },
  {
   "cell_type": "code",
   "execution_count": 24,
   "metadata": {},
   "outputs": [
    {
     "data": {
      "text/html": [
       "<div>\n",
       "<style scoped>\n",
       "    .dataframe tbody tr th:only-of-type {\n",
       "        vertical-align: middle;\n",
       "    }\n",
       "\n",
       "    .dataframe tbody tr th {\n",
       "        vertical-align: top;\n",
       "    }\n",
       "\n",
       "    .dataframe thead th {\n",
       "        text-align: right;\n",
       "    }\n",
       "</style>\n",
       "<table border=\"1\" class=\"dataframe\">\n",
       "  <thead>\n",
       "    <tr style=\"text-align: right;\">\n",
       "      <th></th>\n",
       "      <th>count</th>\n",
       "      <th>percent</th>\n",
       "    </tr>\n",
       "  </thead>\n",
       "  <tbody>\n",
       "    <tr>\n",
       "      <th>18</th>\n",
       "      <td>929615</td>\n",
       "      <td>7.733461</td>\n",
       "    </tr>\n",
       "    <tr>\n",
       "      <th>17</th>\n",
       "      <td>696539</td>\n",
       "      <td>5.794503</td>\n",
       "    </tr>\n",
       "    <tr>\n",
       "      <th>16</th>\n",
       "      <td>695044</td>\n",
       "      <td>5.782066</td>\n",
       "    </tr>\n",
       "    <tr>\n",
       "      <th>15</th>\n",
       "      <td>693270</td>\n",
       "      <td>5.767309</td>\n",
       "    </tr>\n",
       "    <tr>\n",
       "      <th>14</th>\n",
       "      <td>690235</td>\n",
       "      <td>5.742060</td>\n",
       "    </tr>\n",
       "    <tr>\n",
       "      <th>13</th>\n",
       "      <td>687830</td>\n",
       "      <td>5.722053</td>\n",
       "    </tr>\n",
       "    <tr>\n",
       "      <th>12</th>\n",
       "      <td>683915</td>\n",
       "      <td>5.689484</td>\n",
       "    </tr>\n",
       "    <tr>\n",
       "      <th>11</th>\n",
       "      <td>680043</td>\n",
       "      <td>5.657273</td>\n",
       "    </tr>\n",
       "    <tr>\n",
       "      <th>10</th>\n",
       "      <td>671324</td>\n",
       "      <td>5.584740</td>\n",
       "    </tr>\n",
       "    <tr>\n",
       "      <th>9</th>\n",
       "      <td>654328</td>\n",
       "      <td>5.443350</td>\n",
       "    </tr>\n",
       "    <tr>\n",
       "      <th>8</th>\n",
       "      <td>638159</td>\n",
       "      <td>5.308841</td>\n",
       "    </tr>\n",
       "    <tr>\n",
       "      <th>7</th>\n",
       "      <td>625515</td>\n",
       "      <td>5.203655</td>\n",
       "    </tr>\n",
       "    <tr>\n",
       "      <th>6</th>\n",
       "      <td>616023</td>\n",
       "      <td>5.124691</td>\n",
       "    </tr>\n",
       "    <tr>\n",
       "      <th>5</th>\n",
       "      <td>615038</td>\n",
       "      <td>5.116497</td>\n",
       "    </tr>\n",
       "    <tr>\n",
       "      <th>4</th>\n",
       "      <td>613295</td>\n",
       "      <td>5.101997</td>\n",
       "    </tr>\n",
       "    <tr>\n",
       "      <th>3</th>\n",
       "      <td>612114</td>\n",
       "      <td>5.092172</td>\n",
       "    </tr>\n",
       "    <tr>\n",
       "      <th>2</th>\n",
       "      <td>610267</td>\n",
       "      <td>5.076807</td>\n",
       "    </tr>\n",
       "    <tr>\n",
       "      <th>1</th>\n",
       "      <td>608131</td>\n",
       "      <td>5.059038</td>\n",
       "    </tr>\n",
       "  </tbody>\n",
       "</table>\n",
       "</div>"
      ],
      "text/plain": [
       "     count   percent\n",
       "18  929615  7.733461\n",
       "17  696539  5.794503\n",
       "16  695044  5.782066\n",
       "15  693270  5.767309\n",
       "14  690235  5.742060\n",
       "13  687830  5.722053\n",
       "12  683915  5.689484\n",
       "11  680043  5.657273\n",
       "10  671324  5.584740\n",
       "9   654328  5.443350\n",
       "8   638159  5.308841\n",
       "7   625515  5.203655\n",
       "6   616023  5.124691\n",
       "5   615038  5.116497\n",
       "4   613295  5.101997\n",
       "3   612114  5.092172\n",
       "2   610267  5.076807\n",
       "1   608131  5.059038"
      ]
     },
     "execution_count": 24,
     "metadata": {},
     "output_type": "execute_result"
    }
   ],
   "source": [
    "value_counts_add_percent(df['int_date'])"
   ]
  },
  {
   "cell_type": "markdown",
   "metadata": {},
   "source": [
    "### lag 데이터 만들기"
   ]
  },
  {
   "cell_type": "code",
   "execution_count": 15,
   "metadata": {},
   "outputs": [],
   "source": [
    "# 1. 데이터를 복사하고\n",
    "df_lag = df.copy()\n",
    "\n",
    "# 2. 변수명에 _prev를 추가한다.(key가 e고객번호 ncodpers와 날짜 int_date 제외)\n",
    "df_lag.columns = [col + '_prev' if col not in ['ncodpers', 'int_date'] else col \n",
    "                                for col in df.columns]\n",
    "# 3 int_date 날짜 1을 더하여 lag을 생성한다\n",
    "df_lag['int_date'] += 1\n",
    "\n",
    "# 4. 원본 데이터와 lag데이터를 ncodper와 int_date 기준으로 합친다. \n",
    "# lag 데이터의 int_date는 1 밀려있기 때문에 이전 달의 정보가 삽입된다.\n",
    "df_trn = df.merge(df_lag, on=['ncodpers', 'int_date'], how='left')"
   ]
  },
  {
   "cell_type": "code",
   "execution_count": 26,
   "metadata": {},
   "outputs": [
    {
     "name": "stdout",
     "output_type": "stream",
     "text": [
      "[1, 1, 1, 1, 1, 1, 1, 1, 1, 1]\n",
      "==>\n",
      "[2, 2, 2, 2, 2, 2, 2, 2, 2, 2]\n"
     ]
    }
   ],
   "source": [
    "# (참고) lag이 적용되면 1이 증가한다. \n",
    "print(df['int_date'][:10].tolist())\n",
    "print('==>')\n",
    "print(df_lag['int_date'][:10].tolist())"
   ]
  },
  {
   "cell_type": "code",
   "execution_count": 18,
   "metadata": {},
   "outputs": [
    {
     "data": {
      "text/html": [
       "<div>\n",
       "<style scoped>\n",
       "    .dataframe tbody tr th:only-of-type {\n",
       "        vertical-align: middle;\n",
       "    }\n",
       "\n",
       "    .dataframe tbody tr th {\n",
       "        vertical-align: top;\n",
       "    }\n",
       "\n",
       "    .dataframe thead th {\n",
       "        text-align: right;\n",
       "    }\n",
       "</style>\n",
       "<table border=\"1\" class=\"dataframe\">\n",
       "  <thead>\n",
       "    <tr style=\"text-align: right;\">\n",
       "      <th></th>\n",
       "      <th>fecha_dato</th>\n",
       "      <th>ncodpers</th>\n",
       "      <th>ind_empleado</th>\n",
       "      <th>pais_residencia</th>\n",
       "      <th>sexo</th>\n",
       "      <th>age</th>\n",
       "      <th>fecha_alta</th>\n",
       "      <th>ind_nuevo</th>\n",
       "      <th>antiguedad</th>\n",
       "      <th>indrel</th>\n",
       "      <th>...</th>\n",
       "      <th>ind_reca_fin_ult1_prev</th>\n",
       "      <th>ind_tjcr_fin_ult1_prev</th>\n",
       "      <th>ind_valo_fin_ult1_prev</th>\n",
       "      <th>ind_viv_fin_ult1_prev</th>\n",
       "      <th>ind_nomina_ult1_prev</th>\n",
       "      <th>ind_nom_pens_ult1_prev</th>\n",
       "      <th>ind_recibo_ult1_prev</th>\n",
       "      <th>fecha_alta_month_prev</th>\n",
       "      <th>ult_fec_cli_1t_month_prev</th>\n",
       "      <th>ult_fec_cli_1t_year_prev</th>\n",
       "    </tr>\n",
       "  </thead>\n",
       "  <tbody>\n",
       "    <tr>\n",
       "      <th>12020680</th>\n",
       "      <td>2016-06-28</td>\n",
       "      <td>660237</td>\n",
       "      <td>0</td>\n",
       "      <td>0</td>\n",
       "      <td>1</td>\n",
       "      <td>55</td>\n",
       "      <td>1999-04-21</td>\n",
       "      <td>0.0</td>\n",
       "      <td>-50</td>\n",
       "      <td>1.0</td>\n",
       "      <td>...</td>\n",
       "      <td>0.0</td>\n",
       "      <td>0.0</td>\n",
       "      <td>0.0</td>\n",
       "      <td>0.0</td>\n",
       "      <td>1.0</td>\n",
       "      <td>1.0</td>\n",
       "      <td>1.0</td>\n",
       "      <td>4.0</td>\n",
       "      <td>0.0</td>\n",
       "      <td>0.0</td>\n",
       "    </tr>\n",
       "    <tr>\n",
       "      <th>12020681</th>\n",
       "      <td>2016-06-28</td>\n",
       "      <td>660238</td>\n",
       "      <td>0</td>\n",
       "      <td>0</td>\n",
       "      <td>1</td>\n",
       "      <td>30</td>\n",
       "      <td>2006-11-29</td>\n",
       "      <td>0.0</td>\n",
       "      <td>115</td>\n",
       "      <td>1.0</td>\n",
       "      <td>...</td>\n",
       "      <td>NaN</td>\n",
       "      <td>NaN</td>\n",
       "      <td>NaN</td>\n",
       "      <td>NaN</td>\n",
       "      <td>NaN</td>\n",
       "      <td>NaN</td>\n",
       "      <td>NaN</td>\n",
       "      <td>NaN</td>\n",
       "      <td>NaN</td>\n",
       "      <td>NaN</td>\n",
       "    </tr>\n",
       "    <tr>\n",
       "      <th>12020682</th>\n",
       "      <td>2016-06-28</td>\n",
       "      <td>660240</td>\n",
       "      <td>0</td>\n",
       "      <td>0</td>\n",
       "      <td>1</td>\n",
       "      <td>52</td>\n",
       "      <td>2006-11-29</td>\n",
       "      <td>0.0</td>\n",
       "      <td>115</td>\n",
       "      <td>1.0</td>\n",
       "      <td>...</td>\n",
       "      <td>0.0</td>\n",
       "      <td>0.0</td>\n",
       "      <td>0.0</td>\n",
       "      <td>0.0</td>\n",
       "      <td>0.0</td>\n",
       "      <td>0.0</td>\n",
       "      <td>0.0</td>\n",
       "      <td>11.0</td>\n",
       "      <td>0.0</td>\n",
       "      <td>0.0</td>\n",
       "    </tr>\n",
       "    <tr>\n",
       "      <th>12020683</th>\n",
       "      <td>2016-06-28</td>\n",
       "      <td>660243</td>\n",
       "      <td>0</td>\n",
       "      <td>0</td>\n",
       "      <td>1</td>\n",
       "      <td>32</td>\n",
       "      <td>2006-11-29</td>\n",
       "      <td>0.0</td>\n",
       "      <td>115</td>\n",
       "      <td>1.0</td>\n",
       "      <td>...</td>\n",
       "      <td>0.0</td>\n",
       "      <td>0.0</td>\n",
       "      <td>0.0</td>\n",
       "      <td>0.0</td>\n",
       "      <td>0.0</td>\n",
       "      <td>0.0</td>\n",
       "      <td>0.0</td>\n",
       "      <td>11.0</td>\n",
       "      <td>0.0</td>\n",
       "      <td>0.0</td>\n",
       "    </tr>\n",
       "    <tr>\n",
       "      <th>12020684</th>\n",
       "      <td>2016-06-28</td>\n",
       "      <td>660248</td>\n",
       "      <td>0</td>\n",
       "      <td>0</td>\n",
       "      <td>1</td>\n",
       "      <td>92</td>\n",
       "      <td>2006-11-29</td>\n",
       "      <td>0.0</td>\n",
       "      <td>115</td>\n",
       "      <td>1.0</td>\n",
       "      <td>...</td>\n",
       "      <td>0.0</td>\n",
       "      <td>0.0</td>\n",
       "      <td>0.0</td>\n",
       "      <td>0.0</td>\n",
       "      <td>0.0</td>\n",
       "      <td>0.0</td>\n",
       "      <td>0.0</td>\n",
       "      <td>11.0</td>\n",
       "      <td>0.0</td>\n",
       "      <td>0.0</td>\n",
       "    </tr>\n",
       "  </tbody>\n",
       "</table>\n",
       "<p>5 rows × 102 columns</p>\n",
       "</div>"
      ],
      "text/plain": [
       "          fecha_dato  ncodpers  ind_empleado  pais_residencia  sexo  age  \\\n",
       "12020680  2016-06-28    660237             0                0     1   55   \n",
       "12020681  2016-06-28    660238             0                0     1   30   \n",
       "12020682  2016-06-28    660240             0                0     1   52   \n",
       "12020683  2016-06-28    660243             0                0     1   32   \n",
       "12020684  2016-06-28    660248             0                0     1   92   \n",
       "\n",
       "          fecha_alta  ind_nuevo  antiguedad  indrel            ...             \\\n",
       "12020680  1999-04-21        0.0         -50     1.0            ...              \n",
       "12020681  2006-11-29        0.0         115     1.0            ...              \n",
       "12020682  2006-11-29        0.0         115     1.0            ...              \n",
       "12020683  2006-11-29        0.0         115     1.0            ...              \n",
       "12020684  2006-11-29        0.0         115     1.0            ...              \n",
       "\n",
       "         ind_reca_fin_ult1_prev  ind_tjcr_fin_ult1_prev  \\\n",
       "12020680                    0.0                     0.0   \n",
       "12020681                    NaN                     NaN   \n",
       "12020682                    0.0                     0.0   \n",
       "12020683                    0.0                     0.0   \n",
       "12020684                    0.0                     0.0   \n",
       "\n",
       "          ind_valo_fin_ult1_prev  ind_viv_fin_ult1_prev  ind_nomina_ult1_prev  \\\n",
       "12020680                     0.0                    0.0                   1.0   \n",
       "12020681                     NaN                    NaN                   NaN   \n",
       "12020682                     0.0                    0.0                   0.0   \n",
       "12020683                     0.0                    0.0                   0.0   \n",
       "12020684                     0.0                    0.0                   0.0   \n",
       "\n",
       "          ind_nom_pens_ult1_prev  ind_recibo_ult1_prev  fecha_alta_month_prev  \\\n",
       "12020680                     1.0                   1.0                    4.0   \n",
       "12020681                     NaN                   NaN                    NaN   \n",
       "12020682                     0.0                   0.0                   11.0   \n",
       "12020683                     0.0                   0.0                   11.0   \n",
       "12020684                     0.0                   0.0                   11.0   \n",
       "\n",
       "          ult_fec_cli_1t_month_prev  ult_fec_cli_1t_year_prev  \n",
       "12020680                        0.0                       0.0  \n",
       "12020681                        NaN                       NaN  \n",
       "12020682                        0.0                       0.0  \n",
       "12020683                        0.0                       0.0  \n",
       "12020684                        0.0                       0.0  \n",
       "\n",
       "[5 rows x 102 columns]"
      ]
     },
     "execution_count": 18,
     "metadata": {},
     "output_type": "execute_result"
    }
   ],
   "source": [
    "df_trn.tail()"
   ]
  },
  {
   "cell_type": "code",
   "execution_count": 19,
   "metadata": {},
   "outputs": [
    {
     "data": {
      "text/plain": [
       "['fecha_dato',\n",
       " 'ncodpers',\n",
       " 'ind_empleado',\n",
       " 'pais_residencia',\n",
       " 'sexo',\n",
       " 'age',\n",
       " 'fecha_alta',\n",
       " 'ind_nuevo',\n",
       " 'antiguedad',\n",
       " 'indrel',\n",
       " 'ult_fec_cli_1t',\n",
       " 'indrel_1mes',\n",
       " 'tiprel_1mes',\n",
       " 'indresi',\n",
       " 'indext',\n",
       " 'conyuemp',\n",
       " 'canal_entrada',\n",
       " 'indfall',\n",
       " 'tipodom',\n",
       " 'cod_prov',\n",
       " 'nomprov',\n",
       " 'ind_actividad_cliente',\n",
       " 'renta',\n",
       " 'segmento',\n",
       " 'ind_ahor_fin_ult1',\n",
       " 'ind_aval_fin_ult1',\n",
       " 'ind_cco_fin_ult1',\n",
       " 'ind_cder_fin_ult1',\n",
       " 'ind_cno_fin_ult1',\n",
       " 'ind_ctju_fin_ult1',\n",
       " 'ind_ctma_fin_ult1',\n",
       " 'ind_ctop_fin_ult1',\n",
       " 'ind_ctpp_fin_ult1',\n",
       " 'ind_deco_fin_ult1',\n",
       " 'ind_deme_fin_ult1',\n",
       " 'ind_dela_fin_ult1',\n",
       " 'ind_ecue_fin_ult1',\n",
       " 'ind_fond_fin_ult1',\n",
       " 'ind_hip_fin_ult1',\n",
       " 'ind_plan_fin_ult1',\n",
       " 'ind_pres_fin_ult1',\n",
       " 'ind_reca_fin_ult1',\n",
       " 'ind_tjcr_fin_ult1',\n",
       " 'ind_valo_fin_ult1',\n",
       " 'ind_viv_fin_ult1',\n",
       " 'ind_nomina_ult1',\n",
       " 'ind_nom_pens_ult1',\n",
       " 'ind_recibo_ult1',\n",
       " 'fecha_alta_month',\n",
       " 'ult_fec_cli_1t_month',\n",
       " 'ult_fec_cli_1t_year',\n",
       " 'int_date',\n",
       " 'fecha_dato_prev',\n",
       " 'ind_empleado_prev',\n",
       " 'pais_residencia_prev',\n",
       " 'sexo_prev',\n",
       " 'age_prev',\n",
       " 'fecha_alta_prev',\n",
       " 'ind_nuevo_prev',\n",
       " 'antiguedad_prev',\n",
       " 'indrel_prev',\n",
       " 'ult_fec_cli_1t_prev',\n",
       " 'indrel_1mes_prev',\n",
       " 'tiprel_1mes_prev',\n",
       " 'indresi_prev',\n",
       " 'indext_prev',\n",
       " 'conyuemp_prev',\n",
       " 'canal_entrada_prev',\n",
       " 'indfall_prev',\n",
       " 'tipodom_prev',\n",
       " 'cod_prov_prev',\n",
       " 'nomprov_prev',\n",
       " 'ind_actividad_cliente_prev',\n",
       " 'renta_prev',\n",
       " 'segmento_prev',\n",
       " 'ind_ahor_fin_ult1_prev',\n",
       " 'ind_aval_fin_ult1_prev',\n",
       " 'ind_cco_fin_ult1_prev',\n",
       " 'ind_cder_fin_ult1_prev',\n",
       " 'ind_cno_fin_ult1_prev',\n",
       " 'ind_ctju_fin_ult1_prev',\n",
       " 'ind_ctma_fin_ult1_prev',\n",
       " 'ind_ctop_fin_ult1_prev',\n",
       " 'ind_ctpp_fin_ult1_prev',\n",
       " 'ind_deco_fin_ult1_prev',\n",
       " 'ind_deme_fin_ult1_prev',\n",
       " 'ind_dela_fin_ult1_prev',\n",
       " 'ind_ecue_fin_ult1_prev',\n",
       " 'ind_fond_fin_ult1_prev',\n",
       " 'ind_hip_fin_ult1_prev',\n",
       " 'ind_plan_fin_ult1_prev',\n",
       " 'ind_pres_fin_ult1_prev',\n",
       " 'ind_reca_fin_ult1_prev',\n",
       " 'ind_tjcr_fin_ult1_prev',\n",
       " 'ind_valo_fin_ult1_prev',\n",
       " 'ind_viv_fin_ult1_prev',\n",
       " 'ind_nomina_ult1_prev',\n",
       " 'ind_nom_pens_ult1_prev',\n",
       " 'ind_recibo_ult1_prev',\n",
       " 'fecha_alta_month_prev',\n",
       " 'ult_fec_cli_1t_month_prev',\n",
       " 'ult_fec_cli_1t_year_prev']"
      ]
     },
     "execution_count": 19,
     "metadata": {},
     "output_type": "execute_result"
    }
   ],
   "source": [
    "df_trn.columns.tolist()"
   ]
  },
  {
   "cell_type": "code",
   "execution_count": null,
   "metadata": {},
   "outputs": [],
   "source": [
    "# 불필요한 데이터를 메모리에서 제거한다.\n",
    "del df, df_lag"
   ]
  },
  {
   "cell_type": "code",
   "execution_count": 21,
   "metadata": {},
   "outputs": [],
   "source": [
    "# 지난 달의 금융상품 정보가 존재하지 않을 경우에 대비하여 0으로 대체한다. \n",
    "for prod in prods:\n",
    "    prev = prod + '_prev'\n",
    "    df_trn[prev].fillna(0, inplace=True)\n",
    "    \n",
    "df_trn.fillna(-99, inplace=True)"
   ]
  },
  {
   "cell_type": "code",
   "execution_count": 22,
   "metadata": {},
   "outputs": [],
   "source": [
    "# feature 리스트에 lag-1변수를 추가한다.\n",
    "features += [feature + '_prev' for feature in features]\n",
    "features += [prod + '_prev' for prod in prods]"
   ]
  },
  {
   "cell_type": "markdown",
   "metadata": {},
   "source": [
    "features 리스트에 lag-1 함수를 추가했다는 것은  \n",
    "**모델 입력 변수**로 들어간다는 의미이다. "
   ]
  },
  {
   "cell_type": "code",
   "execution_count": null,
   "metadata": {},
   "outputs": [],
   "source": [
    "###\n",
    "### Baseline 모델 이후, 다양한 피처를 여기에 추가한다. \n",
    "###"
   ]
  },
  {
   "cell_type": "markdown",
   "metadata": {},
   "source": [
    "---\n",
    "\n",
    "### 머신러닝 모델학습 : 교차검증  \n",
    "\n",
    "- 데이트를 훈련, 테스트용으로 분리한다.\n",
    "- 학습에는 2016-01-28 ~ 2016-04-28만 사용하고, 검증에는 2016-05-28 데이터를 사용한다."
   ]
  },
  {
   "cell_type": "code",
   "execution_count": 23,
   "metadata": {},
   "outputs": [],
   "source": [
    "use_dates = ['2016-01-28', '2016-02-28', '2016-03-28', '2016-04-28', '2016-05-28']\n",
    "trn = df_trn[df_trn['fecha_dato'].isin(use_dates)]\n",
    "tst = df_trn[df_trn['fecha_dato'] == '2016-06-28']\n",
    "del df_trn"
   ]
  },
  {
   "cell_type": "code",
   "execution_count": 24,
   "metadata": {},
   "outputs": [],
   "source": [
    "# 훈련 데이터에서 신규 구매건수만 추출한다.\n",
    "X = []\n",
    "Y = []\n",
    "\n",
    "for i, prod in enumerate(prods):\n",
    "    prev = prod + '_prev'    \n",
    "    ##### 금융상품 피처 하나씩 pandas가 돌아간다. _start   #####\n",
    "    prX = trn[(trn[prod] == 1) & (trn[prev] == 0)]   # ===> lag으로 신규구매 찾기: 금융상품별 0->1인 것만 prX에 저장\n",
    "    prY = np.zeros(prX.shape[0], dtype=np.int8) + i  # ===> 신규구매 건수만큼, prods의 자릿수(금융상품 컬럼순서)를 채워넣는다. \n",
    "    ##### 금융상품 피처 하나씩 pandas가 돌아간다. _end     #####\n",
    "    X.append(prX)\n",
    "    Y.append(prY)\n",
    "    \n",
    "XY = pd.concat(X)   # 리스트에 금융상품 컬럼별 신규구매 데이터가 pandas dataframe으로 들어있다. \n",
    "Y = np.hstack(Y)    # X의 총 데이터수에 매칭되는 금융상품 컬럼번호 저장\n",
    "XY['y'] = Y         # 타겟변수로 추가한다"
   ]
  },
  {
   "cell_type": "code",
   "execution_count": 25,
   "metadata": {},
   "outputs": [
    {
     "name": "stdout",
     "output_type": "stream",
     "text": [
      "col : ind_ahor_fin_ult1 -> (1, 102)\n",
      "col : ind_aval_fin_ult1 -> (1, 102)\n",
      "col : ind_cco_fin_ult1 -> (33164, 102)\n",
      "col : ind_cder_fin_ult1 -> (37, 102)\n",
      "col : ind_cno_fin_ult1 -> (11725, 102)\n",
      "col : ind_ctju_fin_ult1 -> (424, 102)\n",
      "col : ind_ctma_fin_ult1 -> (4409, 102)\n",
      "col : ind_ctop_fin_ult1 -> (1167, 102)\n",
      "col : ind_ctpp_fin_ult1 -> (713, 102)\n",
      "col : ind_deco_fin_ult1 -> (1, 102)\n",
      "col : ind_deme_fin_ult1 -> (0, 102)\n",
      "col : ind_dela_fin_ult1 -> (1578, 102)\n",
      "col : ind_ecue_fin_ult1 -> (11549, 102)\n",
      "col : ind_fond_fin_ult1 -> (467, 102)\n",
      "col : ind_hip_fin_ult1 -> (18, 102)\n",
      "col : ind_plan_fin_ult1 -> (226, 102)\n",
      "col : ind_pres_fin_ult1 -> (32, 102)\n",
      "col : ind_reca_fin_ult1 -> (2316, 102)\n",
      "col : ind_tjcr_fin_ult1 -> (20443, 102)\n",
      "col : ind_valo_fin_ult1 -> (1550, 102)\n",
      "col : ind_viv_fin_ult1 -> (18, 102)\n",
      "col : ind_nomina_ult1 -> (26392, 102)\n",
      "col : ind_nom_pens_ult1 -> (30761, 102)\n",
      "col : ind_recibo_ult1 -> (52042, 102)\n"
     ]
    }
   ],
   "source": [
    "# X는? 24개 변수별로 신규 구매건의 데이터프레임을 리스트로 저장하는 독특한 방식\n",
    "for i in range(len(X)):\n",
    "    print(\"col : {} -> {}\".format(prods[i], X[i].shape))"
   ]
  },
  {
   "cell_type": "code",
   "execution_count": 26,
   "metadata": {},
   "outputs": [
    {
     "data": {
      "text/html": [
       "<div>\n",
       "<style scoped>\n",
       "    .dataframe tbody tr th:only-of-type {\n",
       "        vertical-align: middle;\n",
       "    }\n",
       "\n",
       "    .dataframe tbody tr th {\n",
       "        vertical-align: top;\n",
       "    }\n",
       "\n",
       "    .dataframe thead th {\n",
       "        text-align: right;\n",
       "    }\n",
       "</style>\n",
       "<table border=\"1\" class=\"dataframe\">\n",
       "  <thead>\n",
       "    <tr style=\"text-align: right;\">\n",
       "      <th></th>\n",
       "      <th>fecha_dato</th>\n",
       "      <th>ncodpers</th>\n",
       "      <th>ind_empleado</th>\n",
       "      <th>pais_residencia</th>\n",
       "      <th>sexo</th>\n",
       "      <th>age</th>\n",
       "      <th>fecha_alta</th>\n",
       "      <th>ind_nuevo</th>\n",
       "      <th>antiguedad</th>\n",
       "      <th>indrel</th>\n",
       "      <th>...</th>\n",
       "      <th>ind_reca_fin_ult1_prev</th>\n",
       "      <th>ind_tjcr_fin_ult1_prev</th>\n",
       "      <th>ind_valo_fin_ult1_prev</th>\n",
       "      <th>ind_viv_fin_ult1_prev</th>\n",
       "      <th>ind_nomina_ult1_prev</th>\n",
       "      <th>ind_nom_pens_ult1_prev</th>\n",
       "      <th>ind_recibo_ult1_prev</th>\n",
       "      <th>fecha_alta_month_prev</th>\n",
       "      <th>ult_fec_cli_1t_month_prev</th>\n",
       "      <th>ult_fec_cli_1t_year_prev</th>\n",
       "    </tr>\n",
       "  </thead>\n",
       "  <tbody>\n",
       "    <tr>\n",
       "      <th>10597872</th>\n",
       "      <td>2016-05-28</td>\n",
       "      <td>194160</td>\n",
       "      <td>0</td>\n",
       "      <td>0</td>\n",
       "      <td>0</td>\n",
       "      <td>42</td>\n",
       "      <td>2000-09-25</td>\n",
       "      <td>0.0</td>\n",
       "      <td>-68</td>\n",
       "      <td>1.0</td>\n",
       "      <td>...</td>\n",
       "      <td>0.0</td>\n",
       "      <td>0.0</td>\n",
       "      <td>0.0</td>\n",
       "      <td>0.0</td>\n",
       "      <td>0.0</td>\n",
       "      <td>0.0</td>\n",
       "      <td>0.0</td>\n",
       "      <td>9.0</td>\n",
       "      <td>0.0</td>\n",
       "      <td>0.0</td>\n",
       "    </tr>\n",
       "  </tbody>\n",
       "</table>\n",
       "<p>1 rows × 102 columns</p>\n",
       "</div>"
      ],
      "text/plain": [
       "          fecha_dato  ncodpers  ind_empleado  pais_residencia  sexo  age  \\\n",
       "10597872  2016-05-28    194160             0                0     0   42   \n",
       "\n",
       "          fecha_alta  ind_nuevo  antiguedad  indrel            ...             \\\n",
       "10597872  2000-09-25        0.0         -68     1.0            ...              \n",
       "\n",
       "         ind_reca_fin_ult1_prev  ind_tjcr_fin_ult1_prev  \\\n",
       "10597872                    0.0                     0.0   \n",
       "\n",
       "          ind_valo_fin_ult1_prev  ind_viv_fin_ult1_prev  ind_nomina_ult1_prev  \\\n",
       "10597872                     0.0                    0.0                   0.0   \n",
       "\n",
       "          ind_nom_pens_ult1_prev  ind_recibo_ult1_prev  fecha_alta_month_prev  \\\n",
       "10597872                     0.0                   0.0                    9.0   \n",
       "\n",
       "          ult_fec_cli_1t_month_prev  ult_fec_cli_1t_year_prev  \n",
       "10597872                        0.0                       0.0  \n",
       "\n",
       "[1 rows x 102 columns]"
      ]
     },
     "execution_count": 26,
     "metadata": {},
     "output_type": "execute_result"
    }
   ],
   "source": [
    "X[0]  # 리스트 첫번째 요소가 데이터프레임이다 ㄷㄷㄷㄷ"
   ]
  },
  {
   "cell_type": "code",
   "execution_count": 28,
   "metadata": {},
   "outputs": [
    {
     "name": "stdout",
     "output_type": "stream",
     "text": [
      "33164\n"
     ]
    },
    {
     "data": {
      "text/html": [
       "<div>\n",
       "<style scoped>\n",
       "    .dataframe tbody tr th:only-of-type {\n",
       "        vertical-align: middle;\n",
       "    }\n",
       "\n",
       "    .dataframe tbody tr th {\n",
       "        vertical-align: top;\n",
       "    }\n",
       "\n",
       "    .dataframe thead th {\n",
       "        text-align: right;\n",
       "    }\n",
       "</style>\n",
       "<table border=\"1\" class=\"dataframe\">\n",
       "  <thead>\n",
       "    <tr style=\"text-align: right;\">\n",
       "      <th></th>\n",
       "      <th>fecha_dato</th>\n",
       "      <th>ncodpers</th>\n",
       "      <th>ind_empleado</th>\n",
       "      <th>pais_residencia</th>\n",
       "      <th>sexo</th>\n",
       "      <th>age</th>\n",
       "      <th>fecha_alta</th>\n",
       "      <th>ind_nuevo</th>\n",
       "      <th>antiguedad</th>\n",
       "      <th>indrel</th>\n",
       "      <th>...</th>\n",
       "      <th>ind_reca_fin_ult1_prev</th>\n",
       "      <th>ind_tjcr_fin_ult1_prev</th>\n",
       "      <th>ind_valo_fin_ult1_prev</th>\n",
       "      <th>ind_viv_fin_ult1_prev</th>\n",
       "      <th>ind_nomina_ult1_prev</th>\n",
       "      <th>ind_nom_pens_ult1_prev</th>\n",
       "      <th>ind_recibo_ult1_prev</th>\n",
       "      <th>fecha_alta_month_prev</th>\n",
       "      <th>ult_fec_cli_1t_month_prev</th>\n",
       "      <th>ult_fec_cli_1t_year_prev</th>\n",
       "    </tr>\n",
       "  </thead>\n",
       "  <tbody>\n",
       "    <tr>\n",
       "      <th>7628180</th>\n",
       "      <td>2016-01-28</td>\n",
       "      <td>1432311</td>\n",
       "      <td>0</td>\n",
       "      <td>0</td>\n",
       "      <td>1</td>\n",
       "      <td>26</td>\n",
       "      <td>2015-08-07</td>\n",
       "      <td>1.0</td>\n",
       "      <td>5</td>\n",
       "      <td>1.0</td>\n",
       "      <td>...</td>\n",
       "      <td>0.0</td>\n",
       "      <td>0.0</td>\n",
       "      <td>0.0</td>\n",
       "      <td>0.0</td>\n",
       "      <td>0.0</td>\n",
       "      <td>0.0</td>\n",
       "      <td>0.0</td>\n",
       "      <td>-99.0</td>\n",
       "      <td>-99.0</td>\n",
       "      <td>-99.0</td>\n",
       "    </tr>\n",
       "    <tr>\n",
       "      <th>7628198</th>\n",
       "      <td>2016-01-28</td>\n",
       "      <td>1432232</td>\n",
       "      <td>0</td>\n",
       "      <td>0</td>\n",
       "      <td>1</td>\n",
       "      <td>33</td>\n",
       "      <td>2015-08-07</td>\n",
       "      <td>0.0</td>\n",
       "      <td>19</td>\n",
       "      <td>1.0</td>\n",
       "      <td>...</td>\n",
       "      <td>0.0</td>\n",
       "      <td>0.0</td>\n",
       "      <td>0.0</td>\n",
       "      <td>0.0</td>\n",
       "      <td>0.0</td>\n",
       "      <td>0.0</td>\n",
       "      <td>0.0</td>\n",
       "      <td>-99.0</td>\n",
       "      <td>-99.0</td>\n",
       "      <td>-99.0</td>\n",
       "    </tr>\n",
       "    <tr>\n",
       "      <th>7628482</th>\n",
       "      <td>2016-01-28</td>\n",
       "      <td>1432080</td>\n",
       "      <td>0</td>\n",
       "      <td>0</td>\n",
       "      <td>0</td>\n",
       "      <td>23</td>\n",
       "      <td>2015-08-07</td>\n",
       "      <td>1.0</td>\n",
       "      <td>5</td>\n",
       "      <td>1.0</td>\n",
       "      <td>...</td>\n",
       "      <td>0.0</td>\n",
       "      <td>0.0</td>\n",
       "      <td>0.0</td>\n",
       "      <td>0.0</td>\n",
       "      <td>0.0</td>\n",
       "      <td>0.0</td>\n",
       "      <td>0.0</td>\n",
       "      <td>-99.0</td>\n",
       "      <td>-99.0</td>\n",
       "      <td>-99.0</td>\n",
       "    </tr>\n",
       "    <tr>\n",
       "      <th>7628692</th>\n",
       "      <td>2016-01-28</td>\n",
       "      <td>1432952</td>\n",
       "      <td>0</td>\n",
       "      <td>0</td>\n",
       "      <td>0</td>\n",
       "      <td>77</td>\n",
       "      <td>2015-08-10</td>\n",
       "      <td>1.0</td>\n",
       "      <td>5</td>\n",
       "      <td>1.0</td>\n",
       "      <td>...</td>\n",
       "      <td>0.0</td>\n",
       "      <td>0.0</td>\n",
       "      <td>1.0</td>\n",
       "      <td>0.0</td>\n",
       "      <td>0.0</td>\n",
       "      <td>0.0</td>\n",
       "      <td>0.0</td>\n",
       "      <td>8.0</td>\n",
       "      <td>0.0</td>\n",
       "      <td>0.0</td>\n",
       "    </tr>\n",
       "    <tr>\n",
       "      <th>7628745</th>\n",
       "      <td>2016-01-28</td>\n",
       "      <td>1432622</td>\n",
       "      <td>0</td>\n",
       "      <td>0</td>\n",
       "      <td>1</td>\n",
       "      <td>21</td>\n",
       "      <td>2015-08-10</td>\n",
       "      <td>1.0</td>\n",
       "      <td>5</td>\n",
       "      <td>1.0</td>\n",
       "      <td>...</td>\n",
       "      <td>0.0</td>\n",
       "      <td>0.0</td>\n",
       "      <td>0.0</td>\n",
       "      <td>0.0</td>\n",
       "      <td>0.0</td>\n",
       "      <td>0.0</td>\n",
       "      <td>0.0</td>\n",
       "      <td>-99.0</td>\n",
       "      <td>-99.0</td>\n",
       "      <td>-99.0</td>\n",
       "    </tr>\n",
       "  </tbody>\n",
       "</table>\n",
       "<p>5 rows × 102 columns</p>\n",
       "</div>"
      ],
      "text/plain": [
       "         fecha_dato  ncodpers  ind_empleado  pais_residencia  sexo  age  \\\n",
       "7628180  2016-01-28   1432311             0                0     1   26   \n",
       "7628198  2016-01-28   1432232             0                0     1   33   \n",
       "7628482  2016-01-28   1432080             0                0     0   23   \n",
       "7628692  2016-01-28   1432952             0                0     0   77   \n",
       "7628745  2016-01-28   1432622             0                0     1   21   \n",
       "\n",
       "         fecha_alta  ind_nuevo  antiguedad  indrel            ...             \\\n",
       "7628180  2015-08-07        1.0           5     1.0            ...              \n",
       "7628198  2015-08-07        0.0          19     1.0            ...              \n",
       "7628482  2015-08-07        1.0           5     1.0            ...              \n",
       "7628692  2015-08-10        1.0           5     1.0            ...              \n",
       "7628745  2015-08-10        1.0           5     1.0            ...              \n",
       "\n",
       "        ind_reca_fin_ult1_prev  ind_tjcr_fin_ult1_prev  \\\n",
       "7628180                    0.0                     0.0   \n",
       "7628198                    0.0                     0.0   \n",
       "7628482                    0.0                     0.0   \n",
       "7628692                    0.0                     0.0   \n",
       "7628745                    0.0                     0.0   \n",
       "\n",
       "         ind_valo_fin_ult1_prev  ind_viv_fin_ult1_prev  ind_nomina_ult1_prev  \\\n",
       "7628180                     0.0                    0.0                   0.0   \n",
       "7628198                     0.0                    0.0                   0.0   \n",
       "7628482                     0.0                    0.0                   0.0   \n",
       "7628692                     1.0                    0.0                   0.0   \n",
       "7628745                     0.0                    0.0                   0.0   \n",
       "\n",
       "         ind_nom_pens_ult1_prev  ind_recibo_ult1_prev  fecha_alta_month_prev  \\\n",
       "7628180                     0.0                   0.0                  -99.0   \n",
       "7628198                     0.0                   0.0                  -99.0   \n",
       "7628482                     0.0                   0.0                  -99.0   \n",
       "7628692                     0.0                   0.0                    8.0   \n",
       "7628745                     0.0                   0.0                  -99.0   \n",
       "\n",
       "         ult_fec_cli_1t_month_prev  ult_fec_cli_1t_year_prev  \n",
       "7628180                      -99.0                     -99.0  \n",
       "7628198                      -99.0                     -99.0  \n",
       "7628482                      -99.0                     -99.0  \n",
       "7628692                        0.0                       0.0  \n",
       "7628745                      -99.0                     -99.0  \n",
       "\n",
       "[5 rows x 102 columns]"
      ]
     },
     "execution_count": 28,
     "metadata": {},
     "output_type": "execute_result"
    }
   ],
   "source": [
    "print(len(X[2]))\n",
    "X[2].head()"
   ]
  },
  {
   "cell_type": "code",
   "execution_count": 29,
   "metadata": {},
   "outputs": [
    {
     "name": "stdout",
     "output_type": "stream",
     "text": [
      "(199034,)\n"
     ]
    },
    {
     "data": {
      "text/plain": [
       "array([ 0,  1,  2, ..., 23, 23, 23], dtype=int8)"
      ]
     },
     "execution_count": 29,
     "metadata": {},
     "output_type": "execute_result"
    }
   ],
   "source": [
    "# 그렇다면 Y는...?  --> 어떤 상품을 신규구매했는지 컬럼 번호 붙어있음(X와 대칭)\n",
    "print(Y.shape)\n",
    "Y"
   ]
  },
  {
   "cell_type": "code",
   "execution_count": 30,
   "metadata": {},
   "outputs": [
    {
     "data": {
      "text/html": [
       "<div>\n",
       "<style scoped>\n",
       "    .dataframe tbody tr th:only-of-type {\n",
       "        vertical-align: middle;\n",
       "    }\n",
       "\n",
       "    .dataframe tbody tr th {\n",
       "        vertical-align: top;\n",
       "    }\n",
       "\n",
       "    .dataframe thead th {\n",
       "        text-align: right;\n",
       "    }\n",
       "</style>\n",
       "<table border=\"1\" class=\"dataframe\">\n",
       "  <thead>\n",
       "    <tr style=\"text-align: right;\">\n",
       "      <th></th>\n",
       "      <th>count</th>\n",
       "      <th>percent</th>\n",
       "    </tr>\n",
       "  </thead>\n",
       "  <tbody>\n",
       "    <tr>\n",
       "      <th>23</th>\n",
       "      <td>52042</td>\n",
       "      <td>26.147291</td>\n",
       "    </tr>\n",
       "    <tr>\n",
       "      <th>2</th>\n",
       "      <td>33164</td>\n",
       "      <td>16.662480</td>\n",
       "    </tr>\n",
       "    <tr>\n",
       "      <th>22</th>\n",
       "      <td>30761</td>\n",
       "      <td>15.455148</td>\n",
       "    </tr>\n",
       "    <tr>\n",
       "      <th>21</th>\n",
       "      <td>26392</td>\n",
       "      <td>13.260046</td>\n",
       "    </tr>\n",
       "    <tr>\n",
       "      <th>18</th>\n",
       "      <td>20443</td>\n",
       "      <td>10.271109</td>\n",
       "    </tr>\n",
       "    <tr>\n",
       "      <th>4</th>\n",
       "      <td>11725</td>\n",
       "      <td>5.890953</td>\n",
       "    </tr>\n",
       "    <tr>\n",
       "      <th>12</th>\n",
       "      <td>11549</td>\n",
       "      <td>5.802526</td>\n",
       "    </tr>\n",
       "    <tr>\n",
       "      <th>6</th>\n",
       "      <td>4409</td>\n",
       "      <td>2.215199</td>\n",
       "    </tr>\n",
       "    <tr>\n",
       "      <th>17</th>\n",
       "      <td>2316</td>\n",
       "      <td>1.163620</td>\n",
       "    </tr>\n",
       "    <tr>\n",
       "      <th>11</th>\n",
       "      <td>1578</td>\n",
       "      <td>0.792829</td>\n",
       "    </tr>\n",
       "    <tr>\n",
       "      <th>19</th>\n",
       "      <td>1550</td>\n",
       "      <td>0.778761</td>\n",
       "    </tr>\n",
       "    <tr>\n",
       "      <th>7</th>\n",
       "      <td>1167</td>\n",
       "      <td>0.586332</td>\n",
       "    </tr>\n",
       "    <tr>\n",
       "      <th>8</th>\n",
       "      <td>713</td>\n",
       "      <td>0.358230</td>\n",
       "    </tr>\n",
       "    <tr>\n",
       "      <th>13</th>\n",
       "      <td>467</td>\n",
       "      <td>0.234633</td>\n",
       "    </tr>\n",
       "    <tr>\n",
       "      <th>5</th>\n",
       "      <td>424</td>\n",
       "      <td>0.213029</td>\n",
       "    </tr>\n",
       "    <tr>\n",
       "      <th>15</th>\n",
       "      <td>226</td>\n",
       "      <td>0.113548</td>\n",
       "    </tr>\n",
       "    <tr>\n",
       "      <th>3</th>\n",
       "      <td>37</td>\n",
       "      <td>0.018590</td>\n",
       "    </tr>\n",
       "    <tr>\n",
       "      <th>16</th>\n",
       "      <td>32</td>\n",
       "      <td>0.016078</td>\n",
       "    </tr>\n",
       "    <tr>\n",
       "      <th>14</th>\n",
       "      <td>18</td>\n",
       "      <td>0.009044</td>\n",
       "    </tr>\n",
       "    <tr>\n",
       "      <th>20</th>\n",
       "      <td>18</td>\n",
       "      <td>0.009044</td>\n",
       "    </tr>\n",
       "    <tr>\n",
       "      <th>9</th>\n",
       "      <td>1</td>\n",
       "      <td>0.000502</td>\n",
       "    </tr>\n",
       "    <tr>\n",
       "      <th>1</th>\n",
       "      <td>1</td>\n",
       "      <td>0.000502</td>\n",
       "    </tr>\n",
       "    <tr>\n",
       "      <th>0</th>\n",
       "      <td>1</td>\n",
       "      <td>0.000502</td>\n",
       "    </tr>\n",
       "  </tbody>\n",
       "</table>\n",
       "</div>"
      ],
      "text/plain": [
       "    count    percent\n",
       "23  52042  26.147291\n",
       "2   33164  16.662480\n",
       "22  30761  15.455148\n",
       "21  26392  13.260046\n",
       "18  20443  10.271109\n",
       "4   11725   5.890953\n",
       "12  11549   5.802526\n",
       "6    4409   2.215199\n",
       "17   2316   1.163620\n",
       "11   1578   0.792829\n",
       "19   1550   0.778761\n",
       "7    1167   0.586332\n",
       "8     713   0.358230\n",
       "13    467   0.234633\n",
       "5     424   0.213029\n",
       "15    226   0.113548\n",
       "3      37   0.018590\n",
       "16     32   0.016078\n",
       "14     18   0.009044\n",
       "20     18   0.009044\n",
       "9       1   0.000502\n",
       "1       1   0.000502\n",
       "0       1   0.000502"
      ]
     },
     "execution_count": 30,
     "metadata": {},
     "output_type": "execute_result"
    }
   ],
   "source": [
    "value_counts_add_percent(pd.Series(Y))"
   ]
  },
  {
   "cell_type": "code",
   "execution_count": 31,
   "metadata": {},
   "outputs": [
    {
     "data": {
      "text/plain": [
       "(199034, 103)"
      ]
     },
     "execution_count": 31,
     "metadata": {},
     "output_type": "execute_result"
    }
   ],
   "source": [
    "# 그렇다면 XY는 ..? \n",
    "# ===> 신규구매 X의 모든 데이터를 합쳤다. Y는 해당 금융상품 \n",
    "XY.shape"
   ]
  },
  {
   "cell_type": "code",
   "execution_count": 32,
   "metadata": {},
   "outputs": [
    {
     "data": {
      "text/html": [
       "<div>\n",
       "<style scoped>\n",
       "    .dataframe tbody tr th:only-of-type {\n",
       "        vertical-align: middle;\n",
       "    }\n",
       "\n",
       "    .dataframe tbody tr th {\n",
       "        vertical-align: top;\n",
       "    }\n",
       "\n",
       "    .dataframe thead th {\n",
       "        text-align: right;\n",
       "    }\n",
       "</style>\n",
       "<table border=\"1\" class=\"dataframe\">\n",
       "  <thead>\n",
       "    <tr style=\"text-align: right;\">\n",
       "      <th></th>\n",
       "      <th>fecha_dato</th>\n",
       "      <th>ncodpers</th>\n",
       "      <th>ind_empleado</th>\n",
       "      <th>pais_residencia</th>\n",
       "      <th>sexo</th>\n",
       "      <th>age</th>\n",
       "      <th>fecha_alta</th>\n",
       "      <th>ind_nuevo</th>\n",
       "      <th>antiguedad</th>\n",
       "      <th>indrel</th>\n",
       "      <th>...</th>\n",
       "      <th>ind_tjcr_fin_ult1_prev</th>\n",
       "      <th>ind_valo_fin_ult1_prev</th>\n",
       "      <th>ind_viv_fin_ult1_prev</th>\n",
       "      <th>ind_nomina_ult1_prev</th>\n",
       "      <th>ind_nom_pens_ult1_prev</th>\n",
       "      <th>ind_recibo_ult1_prev</th>\n",
       "      <th>fecha_alta_month_prev</th>\n",
       "      <th>ult_fec_cli_1t_month_prev</th>\n",
       "      <th>ult_fec_cli_1t_year_prev</th>\n",
       "      <th>y</th>\n",
       "    </tr>\n",
       "  </thead>\n",
       "  <tbody>\n",
       "    <tr>\n",
       "      <th>11090455</th>\n",
       "      <td>2016-05-28</td>\n",
       "      <td>1166385</td>\n",
       "      <td>0</td>\n",
       "      <td>0</td>\n",
       "      <td>1</td>\n",
       "      <td>65</td>\n",
       "      <td>2013-08-14</td>\n",
       "      <td>0.0</td>\n",
       "      <td>33</td>\n",
       "      <td>1.0</td>\n",
       "      <td>...</td>\n",
       "      <td>0.0</td>\n",
       "      <td>0.0</td>\n",
       "      <td>0.0</td>\n",
       "      <td>0.0</td>\n",
       "      <td>0.0</td>\n",
       "      <td>0.0</td>\n",
       "      <td>8.0</td>\n",
       "      <td>0.0</td>\n",
       "      <td>0.0</td>\n",
       "      <td>23</td>\n",
       "    </tr>\n",
       "    <tr>\n",
       "      <th>11090468</th>\n",
       "      <td>2016-05-28</td>\n",
       "      <td>1166355</td>\n",
       "      <td>0</td>\n",
       "      <td>0</td>\n",
       "      <td>1</td>\n",
       "      <td>30</td>\n",
       "      <td>2013-08-14</td>\n",
       "      <td>0.0</td>\n",
       "      <td>33</td>\n",
       "      <td>1.0</td>\n",
       "      <td>...</td>\n",
       "      <td>0.0</td>\n",
       "      <td>0.0</td>\n",
       "      <td>0.0</td>\n",
       "      <td>0.0</td>\n",
       "      <td>0.0</td>\n",
       "      <td>0.0</td>\n",
       "      <td>8.0</td>\n",
       "      <td>0.0</td>\n",
       "      <td>0.0</td>\n",
       "      <td>23</td>\n",
       "    </tr>\n",
       "    <tr>\n",
       "      <th>11090667</th>\n",
       "      <td>2016-05-28</td>\n",
       "      <td>1166343</td>\n",
       "      <td>0</td>\n",
       "      <td>0</td>\n",
       "      <td>1</td>\n",
       "      <td>36</td>\n",
       "      <td>2013-08-14</td>\n",
       "      <td>0.0</td>\n",
       "      <td>33</td>\n",
       "      <td>1.0</td>\n",
       "      <td>...</td>\n",
       "      <td>0.0</td>\n",
       "      <td>0.0</td>\n",
       "      <td>0.0</td>\n",
       "      <td>0.0</td>\n",
       "      <td>0.0</td>\n",
       "      <td>0.0</td>\n",
       "      <td>8.0</td>\n",
       "      <td>0.0</td>\n",
       "      <td>0.0</td>\n",
       "      <td>23</td>\n",
       "    </tr>\n",
       "    <tr>\n",
       "      <th>11090696</th>\n",
       "      <td>2016-05-28</td>\n",
       "      <td>1166232</td>\n",
       "      <td>0</td>\n",
       "      <td>0</td>\n",
       "      <td>0</td>\n",
       "      <td>23</td>\n",
       "      <td>2013-08-14</td>\n",
       "      <td>0.0</td>\n",
       "      <td>33</td>\n",
       "      <td>1.0</td>\n",
       "      <td>...</td>\n",
       "      <td>0.0</td>\n",
       "      <td>0.0</td>\n",
       "      <td>0.0</td>\n",
       "      <td>1.0</td>\n",
       "      <td>1.0</td>\n",
       "      <td>0.0</td>\n",
       "      <td>8.0</td>\n",
       "      <td>0.0</td>\n",
       "      <td>0.0</td>\n",
       "      <td>23</td>\n",
       "    </tr>\n",
       "    <tr>\n",
       "      <th>11090782</th>\n",
       "      <td>2016-05-28</td>\n",
       "      <td>1166874</td>\n",
       "      <td>0</td>\n",
       "      <td>0</td>\n",
       "      <td>1</td>\n",
       "      <td>22</td>\n",
       "      <td>2013-08-16</td>\n",
       "      <td>0.0</td>\n",
       "      <td>33</td>\n",
       "      <td>1.0</td>\n",
       "      <td>...</td>\n",
       "      <td>0.0</td>\n",
       "      <td>0.0</td>\n",
       "      <td>0.0</td>\n",
       "      <td>0.0</td>\n",
       "      <td>0.0</td>\n",
       "      <td>0.0</td>\n",
       "      <td>8.0</td>\n",
       "      <td>0.0</td>\n",
       "      <td>0.0</td>\n",
       "      <td>23</td>\n",
       "    </tr>\n",
       "  </tbody>\n",
       "</table>\n",
       "<p>5 rows × 103 columns</p>\n",
       "</div>"
      ],
      "text/plain": [
       "          fecha_dato  ncodpers  ind_empleado  pais_residencia  sexo  age  \\\n",
       "11090455  2016-05-28   1166385             0                0     1   65   \n",
       "11090468  2016-05-28   1166355             0                0     1   30   \n",
       "11090667  2016-05-28   1166343             0                0     1   36   \n",
       "11090696  2016-05-28   1166232             0                0     0   23   \n",
       "11090782  2016-05-28   1166874             0                0     1   22   \n",
       "\n",
       "          fecha_alta  ind_nuevo  antiguedad  indrel ...  \\\n",
       "11090455  2013-08-14        0.0          33     1.0 ...   \n",
       "11090468  2013-08-14        0.0          33     1.0 ...   \n",
       "11090667  2013-08-14        0.0          33     1.0 ...   \n",
       "11090696  2013-08-14        0.0          33     1.0 ...   \n",
       "11090782  2013-08-16        0.0          33     1.0 ...   \n",
       "\n",
       "         ind_tjcr_fin_ult1_prev  ind_valo_fin_ult1_prev  \\\n",
       "11090455                    0.0                     0.0   \n",
       "11090468                    0.0                     0.0   \n",
       "11090667                    0.0                     0.0   \n",
       "11090696                    0.0                     0.0   \n",
       "11090782                    0.0                     0.0   \n",
       "\n",
       "          ind_viv_fin_ult1_prev  ind_nomina_ult1_prev  ind_nom_pens_ult1_prev  \\\n",
       "11090455                    0.0                   0.0                     0.0   \n",
       "11090468                    0.0                   0.0                     0.0   \n",
       "11090667                    0.0                   0.0                     0.0   \n",
       "11090696                    0.0                   1.0                     1.0   \n",
       "11090782                    0.0                   0.0                     0.0   \n",
       "\n",
       "          ind_recibo_ult1_prev  fecha_alta_month_prev  \\\n",
       "11090455                   0.0                    8.0   \n",
       "11090468                   0.0                    8.0   \n",
       "11090667                   0.0                    8.0   \n",
       "11090696                   0.0                    8.0   \n",
       "11090782                   0.0                    8.0   \n",
       "\n",
       "          ult_fec_cli_1t_month_prev  ult_fec_cli_1t_year_prev   y  \n",
       "11090455                        0.0                       0.0  23  \n",
       "11090468                        0.0                       0.0  23  \n",
       "11090667                        0.0                       0.0  23  \n",
       "11090696                        0.0                       0.0  23  \n",
       "11090782                        0.0                       0.0  23  \n",
       "\n",
       "[5 rows x 103 columns]"
      ]
     },
     "execution_count": 32,
     "metadata": {},
     "output_type": "execute_result"
    }
   ],
   "source": [
    "XY.tail() # --> reset_index 안 해도 되나?????"
   ]
  },
  {
   "cell_type": "markdown",
   "metadata": {},
   "source": [
    "---"
   ]
  },
  {
   "cell_type": "code",
   "execution_count": 34,
   "metadata": {},
   "outputs": [],
   "source": [
    "# 훈련, 검증 데이터로 분리한다. \n",
    "vld_date = '2016-05-28'\n",
    "XY_trn = XY[XY['fecha_dato'] != vld_date]\n",
    "XY_vld = XY[XY['fecha_dato'] == vld_date]"
   ]
  },
  {
   "cell_type": "code",
   "execution_count": null,
   "metadata": {},
   "outputs": [],
   "source": []
  },
  {
   "cell_type": "code",
   "execution_count": 35,
   "metadata": {},
   "outputs": [],
   "source": [
    "# XGBoost 모델 parameter를 설정한다.\n",
    "### 튜토리얼 https://xgboost.readthedocs.io/en/latest/python/index.html\n",
    "param = {\n",
    "    'booster': 'gbtree',\n",
    "    'max_depth': 8,\n",
    "    'nthread': 4,\n",
    "    'num_class': len(prods),\n",
    "    'objective': 'multi:softprob',\n",
    "    'silent': 1,\n",
    "    'eval_metric': 'mlogloss',\n",
    "    'eta': 0.1,\n",
    "    'min_child_weight': 10,\n",
    "    'colsample_bytree': 0.8,\n",
    "    'colsample_bylevel': 0.9,\n",
    "    'seed': 2018,\n",
    "    }"
   ]
  },
  {
   "cell_type": "markdown",
   "metadata": {},
   "source": [
    "### XGBoost 파라미터  \n",
    "- max_depth : 트리 모델의 최대 깊이. 값이 클수록 더 복잡한 모델 생성하며, 과적합될 수 있음  \n",
    "- eta : 딥러닝의 learning rate와 같은 개념. 0과 1사이의 값을 가짐. 값이 크면 학습이 잘 되지 않을 수 있으며, 값이 작으면 느림  \n",
    "- colsample_bytree : 트리 생성시 훈련데이터에서 변수 샘플링 비율. 모든 트리는 전체 변수의 일부만 학습하여 서로의 약점을 보완. 보통 0.6~0.9 사이의 값을 사용  \n",
    "- colsample_bylevel : 트리 레벨별로 훈련 데이터의 변수 샘플링 비율. 보통 0.6~0.9사이의 값을 사용"
   ]
  },
  {
   "cell_type": "code",
   "execution_count": 36,
   "metadata": {},
   "outputs": [
    {
     "name": "stderr",
     "output_type": "stream",
     "text": [
      "C:\\ProgramData\\Anaconda3\\lib\\site-packages\\ipykernel_launcher.py:2: FutureWarning: Method .as_matrix will be removed in a future version. Use .values instead.\n",
      "  \n",
      "C:\\ProgramData\\Anaconda3\\lib\\site-packages\\ipykernel_launcher.py:3: FutureWarning: Method .as_matrix will be removed in a future version. Use .values instead.\n",
      "  This is separate from the ipykernel package so we can avoid doing imports until\n",
      "C:\\ProgramData\\Anaconda3\\lib\\site-packages\\ipykernel_launcher.py:6: FutureWarning: Method .as_matrix will be removed in a future version. Use .values instead.\n",
      "  \n",
      "C:\\ProgramData\\Anaconda3\\lib\\site-packages\\ipykernel_launcher.py:7: FutureWarning: Method .as_matrix will be removed in a future version. Use .values instead.\n",
      "  import sys\n"
     ]
    }
   ],
   "source": [
    "# 훈련, 검증 데이터를 XGBoost 형태로 변환한다.\n",
    "X_trn = XY_trn.as_matrix(columns=features)   # ---> features만 트레이닝셑의 행렬로 저장함\n",
    "Y_trn = XY_trn.as_matrix(columns=['y'])\n",
    "dtrn = xgb.DMatrix(X_trn, label=Y_trn, feature_names=features)\n",
    "\n",
    "X_vld = XY_vld.as_matrix(columns=features)\n",
    "Y_vld = XY_vld.as_matrix(columns=['y'])\n",
    "dvld = xgb.DMatrix(X_vld, label=Y_vld, feature_names=features)"
   ]
  },
  {
   "cell_type": "code",
   "execution_count": 39,
   "metadata": {},
   "outputs": [
    {
     "name": "stdout",
     "output_type": "stream",
     "text": [
      "66\n"
     ]
    },
    {
     "data": {
      "text/plain": [
       "(161137, 66)"
      ]
     },
     "execution_count": 39,
     "metadata": {},
     "output_type": "execute_result"
    }
   ],
   "source": [
    "print(len(features))\n",
    "X_trn.shape   # ---> features에 저장된 컬럼만 training set으로 "
   ]
  },
  {
   "cell_type": "code",
   "execution_count": 37,
   "metadata": {},
   "outputs": [
    {
     "data": {
      "text/plain": [
       "['ind_empleado',\n",
       " 'pais_residencia',\n",
       " 'sexo',\n",
       " 'tiprel_1mes',\n",
       " 'indresi',\n",
       " 'indext',\n",
       " 'conyuemp',\n",
       " 'canal_entrada',\n",
       " 'indfall',\n",
       " 'tipodom',\n",
       " 'nomprov',\n",
       " 'segmento',\n",
       " 'age',\n",
       " 'antiguedad',\n",
       " 'renta',\n",
       " 'ind_nuevo',\n",
       " 'indrel',\n",
       " 'indrel_1mes',\n",
       " 'ind_actividad_cliente',\n",
       " 'ult_fec_cli_1t_month',\n",
       " 'ult_fec_cli_1t_year',\n",
       " 'ind_empleado_prev',\n",
       " 'pais_residencia_prev',\n",
       " 'sexo_prev',\n",
       " 'tiprel_1mes_prev',\n",
       " 'indresi_prev',\n",
       " 'indext_prev',\n",
       " 'conyuemp_prev',\n",
       " 'canal_entrada_prev',\n",
       " 'indfall_prev',\n",
       " 'tipodom_prev',\n",
       " 'nomprov_prev',\n",
       " 'segmento_prev',\n",
       " 'age_prev',\n",
       " 'antiguedad_prev',\n",
       " 'renta_prev',\n",
       " 'ind_nuevo_prev',\n",
       " 'indrel_prev',\n",
       " 'indrel_1mes_prev',\n",
       " 'ind_actividad_cliente_prev',\n",
       " 'ult_fec_cli_1t_month_prev',\n",
       " 'ult_fec_cli_1t_year_prev',\n",
       " 'ind_ahor_fin_ult1_prev',\n",
       " 'ind_aval_fin_ult1_prev',\n",
       " 'ind_cco_fin_ult1_prev',\n",
       " 'ind_cder_fin_ult1_prev',\n",
       " 'ind_cno_fin_ult1_prev',\n",
       " 'ind_ctju_fin_ult1_prev',\n",
       " 'ind_ctma_fin_ult1_prev',\n",
       " 'ind_ctop_fin_ult1_prev',\n",
       " 'ind_ctpp_fin_ult1_prev',\n",
       " 'ind_deco_fin_ult1_prev',\n",
       " 'ind_deme_fin_ult1_prev',\n",
       " 'ind_dela_fin_ult1_prev',\n",
       " 'ind_ecue_fin_ult1_prev',\n",
       " 'ind_fond_fin_ult1_prev',\n",
       " 'ind_hip_fin_ult1_prev',\n",
       " 'ind_plan_fin_ult1_prev',\n",
       " 'ind_pres_fin_ult1_prev',\n",
       " 'ind_reca_fin_ult1_prev',\n",
       " 'ind_tjcr_fin_ult1_prev',\n",
       " 'ind_valo_fin_ult1_prev',\n",
       " 'ind_viv_fin_ult1_prev',\n",
       " 'ind_nomina_ult1_prev',\n",
       " 'ind_nom_pens_ult1_prev',\n",
       " 'ind_recibo_ult1_prev']"
      ]
     },
     "execution_count": 37,
     "metadata": {},
     "output_type": "execute_result"
    }
   ],
   "source": [
    "features"
   ]
  },
  {
   "cell_type": "code",
   "execution_count": 40,
   "metadata": {},
   "outputs": [
    {
     "data": {
      "text/plain": [
       "ind_empleado                   0.0\n",
       "pais_residencia                0.0\n",
       "sexo                           1.0\n",
       "tiprel_1mes                    0.0\n",
       "indresi                        0.0\n",
       "indext                         0.0\n",
       "conyuemp                     -99.0\n",
       "canal_entrada                  3.0\n",
       "indfall                        0.0\n",
       "tipodom                        0.0\n",
       "nomprov                       18.0\n",
       "segmento                       2.0\n",
       "age                           43.0\n",
       "antiguedad                     3.0\n",
       "renta                        -99.0\n",
       "ind_nuevo                      1.0\n",
       "indrel                         1.0\n",
       "indrel_1mes                    1.0\n",
       "ind_actividad_cliente          1.0\n",
       "ult_fec_cli_1t_month           0.0\n",
       "ult_fec_cli_1t_year            0.0\n",
       "ind_empleado_prev              0.0\n",
       "pais_residencia_prev           0.0\n",
       "sexo_prev                      1.0\n",
       "tiprel_1mes_prev               0.0\n",
       "indresi_prev                   0.0\n",
       "indext_prev                    0.0\n",
       "conyuemp_prev                -99.0\n",
       "canal_entrada_prev             3.0\n",
       "indfall_prev                   0.0\n",
       "                              ... \n",
       "ind_nuevo_prev                 1.0\n",
       "indrel_prev                    1.0\n",
       "indrel_1mes_prev               1.0\n",
       "ind_actividad_cliente_prev     1.0\n",
       "ult_fec_cli_1t_month_prev      0.0\n",
       "ult_fec_cli_1t_year_prev       0.0\n",
       "ind_ahor_fin_ult1_prev         0.0\n",
       "ind_aval_fin_ult1_prev         0.0\n",
       "ind_cco_fin_ult1_prev          1.0\n",
       "ind_cder_fin_ult1_prev         0.0\n",
       "ind_cno_fin_ult1_prev          0.0\n",
       "ind_ctju_fin_ult1_prev         0.0\n",
       "ind_ctma_fin_ult1_prev         1.0\n",
       "ind_ctop_fin_ult1_prev         0.0\n",
       "ind_ctpp_fin_ult1_prev         0.0\n",
       "ind_deco_fin_ult1_prev         0.0\n",
       "ind_deme_fin_ult1_prev         0.0\n",
       "ind_dela_fin_ult1_prev         0.0\n",
       "ind_ecue_fin_ult1_prev         0.0\n",
       "ind_fond_fin_ult1_prev         0.0\n",
       "ind_hip_fin_ult1_prev          0.0\n",
       "ind_plan_fin_ult1_prev         0.0\n",
       "ind_pres_fin_ult1_prev         0.0\n",
       "ind_reca_fin_ult1_prev         1.0\n",
       "ind_tjcr_fin_ult1_prev         1.0\n",
       "ind_valo_fin_ult1_prev         0.0\n",
       "ind_viv_fin_ult1_prev          0.0\n",
       "ind_nomina_ult1_prev           0.0\n",
       "ind_nom_pens_ult1_prev         0.0\n",
       "ind_recibo_ult1_prev           1.0\n",
       "Name: 7658069, Length: 66, dtype: float64"
      ]
     },
     "execution_count": 40,
     "metadata": {},
     "output_type": "execute_result"
    }
   ],
   "source": [
    "XY_trn[features].iloc[0]"
   ]
  },
  {
   "cell_type": "code",
   "execution_count": 41,
   "metadata": {},
   "outputs": [
    {
     "data": {
      "text/plain": [
       "array([  0.,   0.,   1.,   0.,   0.,   0., -99.,   3.,   0.,   0.,  18.,\n",
       "         2.,  43.,   3., -99.,   1.,   1.,   1.,   1.,   0.,   0.,   0.,\n",
       "         0.,   1.,   0.,   0.,   0., -99.,   3.,   0.,   0.,  18.,   2.,\n",
       "        43.,   2., -99.,   1.,   1.,   1.,   1.,   0.,   0.,   0.,   0.,\n",
       "         1.,   0.,   0.,   0.,   1.,   0.,   0.,   0.,   0.,   0.,   0.,\n",
       "         0.,   0.,   0.,   0.,   1.,   1.,   0.,   0.,   0.,   0.,   1.])"
      ]
     },
     "execution_count": 41,
     "metadata": {},
     "output_type": "execute_result"
    }
   ],
   "source": [
    "X_trn[0,:]"
   ]
  },
  {
   "cell_type": "code",
   "execution_count": 42,
   "metadata": {},
   "outputs": [
    {
     "data": {
      "text/plain": [
       "<xgboost.core.DMatrix at 0x1521efda0>"
      ]
     },
     "execution_count": 42,
     "metadata": {},
     "output_type": "execute_result"
    }
   ],
   "source": [
    "dtrn  # 제너레이터로 저장"
   ]
  },
  {
   "cell_type": "code",
   "execution_count": 43,
   "metadata": {},
   "outputs": [
    {
     "name": "stdout",
     "output_type": "stream",
     "text": [
      "--------------------------> start\n",
      "2018-10-15 17:42:17.144485+09:00\n",
      "\n",
      "\n",
      "[0]\ttrain-mlogloss:2.69601\teval-mlogloss:2.70578\n",
      "Multiple eval metrics have been passed: 'eval-mlogloss' will be used for early stopping.\n",
      "\n",
      "Will train until eval-mlogloss hasn't improved in 20 rounds.\n",
      "[1]\ttrain-mlogloss:2.46902\teval-mlogloss:2.48286\n",
      "[2]\ttrain-mlogloss:2.28773\teval-mlogloss:2.30235\n",
      "[3]\ttrain-mlogloss:2.15299\teval-mlogloss:2.16842\n",
      "[4]\ttrain-mlogloss:2.04977\teval-mlogloss:2.0655\n",
      "[5]\ttrain-mlogloss:1.95953\teval-mlogloss:1.97571\n",
      "[6]\ttrain-mlogloss:1.88028\teval-mlogloss:1.8977\n",
      "[7]\ttrain-mlogloss:1.81328\teval-mlogloss:1.83151\n",
      "[8]\ttrain-mlogloss:1.75027\teval-mlogloss:1.7689\n",
      "[9]\ttrain-mlogloss:1.69514\teval-mlogloss:1.71352\n",
      "[10]\ttrain-mlogloss:1.64538\teval-mlogloss:1.66382\n",
      "[11]\ttrain-mlogloss:1.60118\teval-mlogloss:1.61988\n",
      "[12]\ttrain-mlogloss:1.56174\teval-mlogloss:1.5809\n",
      "[13]\ttrain-mlogloss:1.52612\teval-mlogloss:1.5453\n",
      "[14]\ttrain-mlogloss:1.49144\teval-mlogloss:1.51069\n",
      "[15]\ttrain-mlogloss:1.46035\teval-mlogloss:1.47975\n",
      "[16]\ttrain-mlogloss:1.432\teval-mlogloss:1.45117\n",
      "[17]\ttrain-mlogloss:1.40881\teval-mlogloss:1.4283\n",
      "[18]\ttrain-mlogloss:1.38603\teval-mlogloss:1.40569\n",
      "[19]\ttrain-mlogloss:1.36494\teval-mlogloss:1.38455\n",
      "[20]\ttrain-mlogloss:1.34496\teval-mlogloss:1.36472\n",
      "[21]\ttrain-mlogloss:1.32666\teval-mlogloss:1.34664\n",
      "[22]\ttrain-mlogloss:1.30971\teval-mlogloss:1.32997\n",
      "[23]\ttrain-mlogloss:1.29429\teval-mlogloss:1.3147\n",
      "[24]\ttrain-mlogloss:1.28057\teval-mlogloss:1.30131\n",
      "[25]\ttrain-mlogloss:1.26758\teval-mlogloss:1.28867\n",
      "[26]\ttrain-mlogloss:1.25532\teval-mlogloss:1.27654\n",
      "[27]\ttrain-mlogloss:1.24432\teval-mlogloss:1.26597\n",
      "[28]\ttrain-mlogloss:1.23362\teval-mlogloss:1.25562\n",
      "[29]\ttrain-mlogloss:1.22362\teval-mlogloss:1.24582\n",
      "[30]\ttrain-mlogloss:1.21471\teval-mlogloss:1.23723\n",
      "[31]\ttrain-mlogloss:1.20615\teval-mlogloss:1.22914\n",
      "[32]\ttrain-mlogloss:1.19788\teval-mlogloss:1.22107\n",
      "[33]\ttrain-mlogloss:1.19036\teval-mlogloss:1.21397\n",
      "[34]\ttrain-mlogloss:1.18328\teval-mlogloss:1.20736\n",
      "[35]\ttrain-mlogloss:1.17642\teval-mlogloss:1.20079\n",
      "[36]\ttrain-mlogloss:1.17024\teval-mlogloss:1.19507\n",
      "[37]\ttrain-mlogloss:1.16395\teval-mlogloss:1.18921\n",
      "[38]\ttrain-mlogloss:1.15815\teval-mlogloss:1.18396\n",
      "[39]\ttrain-mlogloss:1.15291\teval-mlogloss:1.17911\n",
      "[40]\ttrain-mlogloss:1.14821\teval-mlogloss:1.17489\n",
      "[41]\ttrain-mlogloss:1.14363\teval-mlogloss:1.17071\n",
      "[42]\ttrain-mlogloss:1.13915\teval-mlogloss:1.16656\n",
      "[43]\ttrain-mlogloss:1.13482\teval-mlogloss:1.1626\n",
      "[44]\ttrain-mlogloss:1.13061\teval-mlogloss:1.15883\n",
      "[45]\ttrain-mlogloss:1.127\teval-mlogloss:1.15549\n",
      "[46]\ttrain-mlogloss:1.12309\teval-mlogloss:1.15209\n",
      "[47]\ttrain-mlogloss:1.11975\teval-mlogloss:1.14919\n",
      "[48]\ttrain-mlogloss:1.11644\teval-mlogloss:1.14617\n",
      "[49]\ttrain-mlogloss:1.11342\teval-mlogloss:1.14356\n",
      "[50]\ttrain-mlogloss:1.11036\teval-mlogloss:1.14105\n",
      "[51]\ttrain-mlogloss:1.10742\teval-mlogloss:1.13845\n",
      "[52]\ttrain-mlogloss:1.10456\teval-mlogloss:1.13599\n",
      "[53]\ttrain-mlogloss:1.10215\teval-mlogloss:1.13404\n",
      "[54]\ttrain-mlogloss:1.09977\teval-mlogloss:1.13209\n",
      "[55]\ttrain-mlogloss:1.09722\teval-mlogloss:1.12996\n",
      "[56]\ttrain-mlogloss:1.09494\teval-mlogloss:1.12807\n",
      "[57]\ttrain-mlogloss:1.09275\teval-mlogloss:1.12625\n",
      "[58]\ttrain-mlogloss:1.09061\teval-mlogloss:1.12447\n",
      "[59]\ttrain-mlogloss:1.08873\teval-mlogloss:1.12301\n",
      "[60]\ttrain-mlogloss:1.08679\teval-mlogloss:1.1215\n",
      "[61]\ttrain-mlogloss:1.08509\teval-mlogloss:1.12019\n",
      "[62]\ttrain-mlogloss:1.08335\teval-mlogloss:1.11882\n",
      "[63]\ttrain-mlogloss:1.08142\teval-mlogloss:1.11737\n",
      "[64]\ttrain-mlogloss:1.07976\teval-mlogloss:1.11608\n",
      "[65]\ttrain-mlogloss:1.07828\teval-mlogloss:1.11502\n",
      "[66]\ttrain-mlogloss:1.07673\teval-mlogloss:1.11385\n",
      "[67]\ttrain-mlogloss:1.07523\teval-mlogloss:1.11273\n",
      "[68]\ttrain-mlogloss:1.07378\teval-mlogloss:1.11165\n",
      "[69]\ttrain-mlogloss:1.07237\teval-mlogloss:1.11062\n",
      "[70]\ttrain-mlogloss:1.0712\teval-mlogloss:1.10972\n",
      "[71]\ttrain-mlogloss:1.06986\teval-mlogloss:1.1088\n",
      "[72]\ttrain-mlogloss:1.06849\teval-mlogloss:1.10791\n",
      "[73]\ttrain-mlogloss:1.06729\teval-mlogloss:1.10706\n",
      "[74]\ttrain-mlogloss:1.0661\teval-mlogloss:1.10628\n",
      "[75]\ttrain-mlogloss:1.06503\teval-mlogloss:1.10555\n",
      "[76]\ttrain-mlogloss:1.06405\teval-mlogloss:1.10497\n",
      "[77]\ttrain-mlogloss:1.06307\teval-mlogloss:1.10437\n",
      "[78]\ttrain-mlogloss:1.06199\teval-mlogloss:1.10371\n",
      "[79]\ttrain-mlogloss:1.06106\teval-mlogloss:1.10313\n",
      "[80]\ttrain-mlogloss:1.06015\teval-mlogloss:1.10258\n",
      "[81]\ttrain-mlogloss:1.05928\teval-mlogloss:1.10209\n",
      "[82]\ttrain-mlogloss:1.05844\teval-mlogloss:1.10156\n",
      "[83]\ttrain-mlogloss:1.05753\teval-mlogloss:1.10103\n",
      "[84]\ttrain-mlogloss:1.05657\teval-mlogloss:1.10047\n",
      "[85]\ttrain-mlogloss:1.05579\teval-mlogloss:1.10002\n",
      "[86]\ttrain-mlogloss:1.05493\teval-mlogloss:1.09957\n",
      "[87]\ttrain-mlogloss:1.05407\teval-mlogloss:1.09917\n",
      "[88]\ttrain-mlogloss:1.05321\teval-mlogloss:1.09873\n",
      "[89]\ttrain-mlogloss:1.05237\teval-mlogloss:1.0984\n",
      "[90]\ttrain-mlogloss:1.05161\teval-mlogloss:1.09806\n",
      "[91]\ttrain-mlogloss:1.05087\teval-mlogloss:1.09771\n",
      "[92]\ttrain-mlogloss:1.05018\teval-mlogloss:1.09733\n",
      "[93]\ttrain-mlogloss:1.04943\teval-mlogloss:1.09698\n",
      "[94]\ttrain-mlogloss:1.0488\teval-mlogloss:1.09665\n",
      "[95]\ttrain-mlogloss:1.04803\teval-mlogloss:1.09633\n",
      "[96]\ttrain-mlogloss:1.04739\teval-mlogloss:1.09607\n",
      "[97]\ttrain-mlogloss:1.04687\teval-mlogloss:1.09583\n",
      "[98]\ttrain-mlogloss:1.04618\teval-mlogloss:1.09553\n",
      "[99]\ttrain-mlogloss:1.04553\teval-mlogloss:1.09524\n",
      "[100]\ttrain-mlogloss:1.0448\teval-mlogloss:1.09498\n",
      "[101]\ttrain-mlogloss:1.04408\teval-mlogloss:1.09471\n",
      "[102]\ttrain-mlogloss:1.04342\teval-mlogloss:1.09444\n",
      "[103]\ttrain-mlogloss:1.0428\teval-mlogloss:1.09425\n",
      "[104]\ttrain-mlogloss:1.0422\teval-mlogloss:1.09404\n",
      "[105]\ttrain-mlogloss:1.04155\teval-mlogloss:1.09383\n",
      "[106]\ttrain-mlogloss:1.04101\teval-mlogloss:1.09365\n",
      "[107]\ttrain-mlogloss:1.0404\teval-mlogloss:1.09349\n",
      "[108]\ttrain-mlogloss:1.03973\teval-mlogloss:1.09333\n",
      "[109]\ttrain-mlogloss:1.03911\teval-mlogloss:1.0932\n",
      "[110]\ttrain-mlogloss:1.03846\teval-mlogloss:1.09303\n",
      "[111]\ttrain-mlogloss:1.0378\teval-mlogloss:1.09284\n",
      "[112]\ttrain-mlogloss:1.03725\teval-mlogloss:1.0927\n",
      "[113]\ttrain-mlogloss:1.03666\teval-mlogloss:1.09258\n",
      "[114]\ttrain-mlogloss:1.03601\teval-mlogloss:1.09242\n",
      "[115]\ttrain-mlogloss:1.03535\teval-mlogloss:1.09232\n",
      "[116]\ttrain-mlogloss:1.03485\teval-mlogloss:1.09222\n",
      "[117]\ttrain-mlogloss:1.03436\teval-mlogloss:1.09212\n",
      "[118]\ttrain-mlogloss:1.03371\teval-mlogloss:1.092\n",
      "[119]\ttrain-mlogloss:1.03323\teval-mlogloss:1.09187\n",
      "[120]\ttrain-mlogloss:1.03275\teval-mlogloss:1.09173\n",
      "[121]\ttrain-mlogloss:1.03217\teval-mlogloss:1.09163\n",
      "[122]\ttrain-mlogloss:1.03162\teval-mlogloss:1.09151\n",
      "[123]\ttrain-mlogloss:1.03105\teval-mlogloss:1.09137\n",
      "[124]\ttrain-mlogloss:1.03047\teval-mlogloss:1.09124\n",
      "[125]\ttrain-mlogloss:1.02999\teval-mlogloss:1.09114\n",
      "[126]\ttrain-mlogloss:1.02947\teval-mlogloss:1.09106\n",
      "[127]\ttrain-mlogloss:1.02904\teval-mlogloss:1.09102\n",
      "[128]\ttrain-mlogloss:1.02862\teval-mlogloss:1.09095\n",
      "[129]\ttrain-mlogloss:1.02803\teval-mlogloss:1.09077\n",
      "[130]\ttrain-mlogloss:1.0274\teval-mlogloss:1.09062\n",
      "[131]\ttrain-mlogloss:1.0269\teval-mlogloss:1.09052\n",
      "[132]\ttrain-mlogloss:1.02643\teval-mlogloss:1.09047\n",
      "[133]\ttrain-mlogloss:1.02592\teval-mlogloss:1.0904\n",
      "[134]\ttrain-mlogloss:1.02539\teval-mlogloss:1.09034\n",
      "[135]\ttrain-mlogloss:1.02485\teval-mlogloss:1.09024\n",
      "[136]\ttrain-mlogloss:1.02423\teval-mlogloss:1.09014\n",
      "[137]\ttrain-mlogloss:1.02377\teval-mlogloss:1.09008\n",
      "[138]\ttrain-mlogloss:1.02322\teval-mlogloss:1.09002\n",
      "[139]\ttrain-mlogloss:1.02268\teval-mlogloss:1.08992\n",
      "[140]\ttrain-mlogloss:1.02219\teval-mlogloss:1.08983\n",
      "[141]\ttrain-mlogloss:1.02168\teval-mlogloss:1.08974\n",
      "[142]\ttrain-mlogloss:1.02123\teval-mlogloss:1.08966\n",
      "[143]\ttrain-mlogloss:1.0208\teval-mlogloss:1.08959\n",
      "[144]\ttrain-mlogloss:1.02024\teval-mlogloss:1.08953\n",
      "[145]\ttrain-mlogloss:1.01963\teval-mlogloss:1.08947\n",
      "[146]\ttrain-mlogloss:1.01925\teval-mlogloss:1.08944\n",
      "[147]\ttrain-mlogloss:1.01865\teval-mlogloss:1.08942\n",
      "[148]\ttrain-mlogloss:1.01819\teval-mlogloss:1.08939\n",
      "[149]\ttrain-mlogloss:1.01764\teval-mlogloss:1.08932\n",
      "[150]\ttrain-mlogloss:1.01719\teval-mlogloss:1.08926\n",
      "[151]\ttrain-mlogloss:1.01673\teval-mlogloss:1.08921\n",
      "[152]\ttrain-mlogloss:1.01624\teval-mlogloss:1.08915\n",
      "[153]\ttrain-mlogloss:1.0158\teval-mlogloss:1.08912\n",
      "[154]\ttrain-mlogloss:1.01536\teval-mlogloss:1.08907\n",
      "[155]\ttrain-mlogloss:1.01489\teval-mlogloss:1.08904\n",
      "[156]\ttrain-mlogloss:1.01443\teval-mlogloss:1.08902\n",
      "[157]\ttrain-mlogloss:1.01392\teval-mlogloss:1.08899\n",
      "[158]\ttrain-mlogloss:1.01343\teval-mlogloss:1.08894\n",
      "[159]\ttrain-mlogloss:1.01297\teval-mlogloss:1.08887\n"
     ]
    },
    {
     "name": "stdout",
     "output_type": "stream",
     "text": [
      "[160]\ttrain-mlogloss:1.01243\teval-mlogloss:1.08883\n",
      "[161]\ttrain-mlogloss:1.01199\teval-mlogloss:1.08879\n",
      "[162]\ttrain-mlogloss:1.01132\teval-mlogloss:1.08878\n",
      "[163]\ttrain-mlogloss:1.01083\teval-mlogloss:1.08874\n",
      "[164]\ttrain-mlogloss:1.01034\teval-mlogloss:1.08872\n",
      "[165]\ttrain-mlogloss:1.00989\teval-mlogloss:1.08869\n",
      "[166]\ttrain-mlogloss:1.00933\teval-mlogloss:1.08867\n",
      "[167]\ttrain-mlogloss:1.00891\teval-mlogloss:1.08861\n",
      "[168]\ttrain-mlogloss:1.00854\teval-mlogloss:1.08858\n",
      "[169]\ttrain-mlogloss:1.00806\teval-mlogloss:1.08856\n",
      "[170]\ttrain-mlogloss:1.00762\teval-mlogloss:1.08854\n",
      "[171]\ttrain-mlogloss:1.0072\teval-mlogloss:1.08857\n",
      "[172]\ttrain-mlogloss:1.00664\teval-mlogloss:1.08856\n",
      "[173]\ttrain-mlogloss:1.0061\teval-mlogloss:1.08853\n",
      "[174]\ttrain-mlogloss:1.00558\teval-mlogloss:1.0885\n",
      "[175]\ttrain-mlogloss:1.00508\teval-mlogloss:1.08847\n",
      "[176]\ttrain-mlogloss:1.00458\teval-mlogloss:1.08838\n",
      "[177]\ttrain-mlogloss:1.00406\teval-mlogloss:1.08839\n",
      "[178]\ttrain-mlogloss:1.00356\teval-mlogloss:1.08839\n",
      "[179]\ttrain-mlogloss:1.00293\teval-mlogloss:1.08836\n",
      "[180]\ttrain-mlogloss:1.00255\teval-mlogloss:1.08839\n",
      "[181]\ttrain-mlogloss:1.00215\teval-mlogloss:1.08838\n",
      "[182]\ttrain-mlogloss:1.00162\teval-mlogloss:1.08839\n",
      "[183]\ttrain-mlogloss:1.00121\teval-mlogloss:1.0884\n",
      "[184]\ttrain-mlogloss:1.00071\teval-mlogloss:1.08838\n",
      "[185]\ttrain-mlogloss:1.00033\teval-mlogloss:1.08837\n",
      "[186]\ttrain-mlogloss:0.999798\teval-mlogloss:1.08834\n",
      "[187]\ttrain-mlogloss:0.999362\teval-mlogloss:1.0883\n",
      "[188]\ttrain-mlogloss:0.998847\teval-mlogloss:1.08828\n",
      "[189]\ttrain-mlogloss:0.998321\teval-mlogloss:1.08829\n",
      "[190]\ttrain-mlogloss:0.997864\teval-mlogloss:1.08829\n",
      "[191]\ttrain-mlogloss:0.997447\teval-mlogloss:1.08827\n",
      "[192]\ttrain-mlogloss:0.997004\teval-mlogloss:1.08822\n",
      "[193]\ttrain-mlogloss:0.996621\teval-mlogloss:1.08821\n",
      "[194]\ttrain-mlogloss:0.996122\teval-mlogloss:1.0882\n",
      "[195]\ttrain-mlogloss:0.99571\teval-mlogloss:1.08817\n",
      "[196]\ttrain-mlogloss:0.995231\teval-mlogloss:1.08813\n",
      "[197]\ttrain-mlogloss:0.994701\teval-mlogloss:1.08814\n",
      "[198]\ttrain-mlogloss:0.994135\teval-mlogloss:1.08811\n",
      "[199]\ttrain-mlogloss:0.993613\teval-mlogloss:1.08809\n",
      "[200]\ttrain-mlogloss:0.993163\teval-mlogloss:1.08811\n",
      "[201]\ttrain-mlogloss:0.992673\teval-mlogloss:1.08813\n",
      "[202]\ttrain-mlogloss:0.992191\teval-mlogloss:1.0881\n",
      "[203]\ttrain-mlogloss:0.991721\teval-mlogloss:1.08807\n",
      "[204]\ttrain-mlogloss:0.991354\teval-mlogloss:1.0881\n",
      "[205]\ttrain-mlogloss:0.991036\teval-mlogloss:1.08807\n",
      "[206]\ttrain-mlogloss:0.990603\teval-mlogloss:1.08805\n",
      "[207]\ttrain-mlogloss:0.990156\teval-mlogloss:1.08803\n",
      "[208]\ttrain-mlogloss:0.98981\teval-mlogloss:1.08804\n",
      "[209]\ttrain-mlogloss:0.989202\teval-mlogloss:1.08802\n",
      "[210]\ttrain-mlogloss:0.988647\teval-mlogloss:1.08805\n",
      "[211]\ttrain-mlogloss:0.988273\teval-mlogloss:1.08804\n",
      "[212]\ttrain-mlogloss:0.987751\teval-mlogloss:1.08802\n",
      "[213]\ttrain-mlogloss:0.987291\teval-mlogloss:1.08802\n",
      "[214]\ttrain-mlogloss:0.986884\teval-mlogloss:1.08799\n",
      "[215]\ttrain-mlogloss:0.9865\teval-mlogloss:1.08796\n",
      "[216]\ttrain-mlogloss:0.986121\teval-mlogloss:1.08797\n",
      "[217]\ttrain-mlogloss:0.985722\teval-mlogloss:1.08799\n",
      "[218]\ttrain-mlogloss:0.985286\teval-mlogloss:1.08797\n",
      "[219]\ttrain-mlogloss:0.984923\teval-mlogloss:1.08793\n",
      "[220]\ttrain-mlogloss:0.984385\teval-mlogloss:1.08788\n",
      "[221]\ttrain-mlogloss:0.983966\teval-mlogloss:1.0879\n",
      "[222]\ttrain-mlogloss:0.983592\teval-mlogloss:1.08793\n",
      "[223]\ttrain-mlogloss:0.983221\teval-mlogloss:1.08797\n",
      "[224]\ttrain-mlogloss:0.982619\teval-mlogloss:1.08802\n",
      "[225]\ttrain-mlogloss:0.982028\teval-mlogloss:1.08797\n",
      "[226]\ttrain-mlogloss:0.981482\teval-mlogloss:1.08795\n",
      "[227]\ttrain-mlogloss:0.981041\teval-mlogloss:1.08797\n",
      "[228]\ttrain-mlogloss:0.980654\teval-mlogloss:1.08797\n",
      "[229]\ttrain-mlogloss:0.980246\teval-mlogloss:1.08794\n",
      "[230]\ttrain-mlogloss:0.979834\teval-mlogloss:1.08788\n",
      "[231]\ttrain-mlogloss:0.979437\teval-mlogloss:1.08791\n",
      "[232]\ttrain-mlogloss:0.978948\teval-mlogloss:1.08793\n",
      "[233]\ttrain-mlogloss:0.978661\teval-mlogloss:1.08798\n",
      "[234]\ttrain-mlogloss:0.978273\teval-mlogloss:1.08801\n",
      "[235]\ttrain-mlogloss:0.977788\teval-mlogloss:1.08802\n",
      "[236]\ttrain-mlogloss:0.977438\teval-mlogloss:1.08801\n",
      "[237]\ttrain-mlogloss:0.977124\teval-mlogloss:1.088\n",
      "[238]\ttrain-mlogloss:0.97671\teval-mlogloss:1.088\n",
      "[239]\ttrain-mlogloss:0.976288\teval-mlogloss:1.08804\n",
      "[240]\ttrain-mlogloss:0.976018\teval-mlogloss:1.08803\n",
      "Stopping. Best iteration:\n",
      "[220]\ttrain-mlogloss:0.984385\teval-mlogloss:1.08788\n",
      "\n",
      "--------------------------> end\n",
      "2018-10-15 18:18:03.869271+09:00\n"
     ]
    }
   ],
   "source": [
    "# XGBoost 모델을 훈련 데이터로 학습한다!\n",
    "print('--------------------------> start')\n",
    "print(datetime.datetime.now(timezone('Asia/Seoul')))\n",
    "print('\\n')\n",
    "\n",
    "watch_list = [(dtrn, 'train'), (dvld, 'eval')]\n",
    "model = xgb.train(param, dtrn, num_boost_round=1000, evals=watch_list, early_stopping_rounds=20)\n",
    "\n",
    "print('--------------------------> end')\n",
    "print(datetime.datetime.now(timezone('Asia/Seoul')))"
   ]
  },
  {
   "cell_type": "markdown",
   "metadata": {},
   "source": [
    "컴 기준으로 40분 소요"
   ]
  },
  {
   "cell_type": "code",
   "execution_count": 44,
   "metadata": {},
   "outputs": [],
   "source": [
    "# 학습한 모델을 저장한다.\n",
    "import pickle\n",
    "pickle.dump(model, open(\"model/xgb.baseline.pkl\", \"wb\"))\n",
    "best_ntree_limit = model.best_ntree_limit"
   ]
  },
  {
   "cell_type": "markdown",
   "metadata": {},
   "source": [
    "### kaggle에서 요구한 평가 함수 : map@7"
   ]
  },
  {
   "cell_type": "code",
   "execution_count": 45,
   "metadata": {},
   "outputs": [],
   "source": [
    "#### MAP@7 함수 #### \n",
    "def apk(actual, predicted, k=7, default=0.0):\n",
    "    # MAP@7 이므로, 최대 7개만 사용한다\n",
    "    if len(predicted) > k:\n",
    "        predicted = predicted[:k]\n",
    "\n",
    "    score = 0.0\n",
    "    num_hits = 0.0\n",
    "\n",
    "    for i, p in enumerate(predicted):\n",
    "        # 점수를 부여하는 조건은 다음과 같다 :\n",
    "        # 예측값이 정답에 있고 (‘p in actual’)\n",
    "        # 예측값이 중복이 아니면 (‘p not in predicted[:i]’) \n",
    "        if p in actual and p not in predicted[:i]:\n",
    "            num_hits += 1.0\n",
    "            score += num_hits / (i+1.0)\n",
    "\n",
    "    # 정답값이 공백일 경우, 무조건 0.0점을 반환한다\n",
    "    if not actual:\n",
    "        return default\n",
    "\n",
    "    # 정답의 개수(len(actual))로 average precision을 구한다\n",
    "    return score / min(len(actual), k)\n",
    "\n",
    "def mapk(actual, predicted, k=7, default=0.0):\n",
    "    # list of list인 정답값(actual)과 예측값(predicted)에서 고객별 Average Precision을 구하고, np.mean()을 통해 평균을 계산한다\n",
    "    return np.mean([apk(a, p, k, default) for a, p in zip(actual, predicted)]) "
   ]
  },
  {
   "cell_type": "code",
   "execution_count": 46,
   "metadata": {},
   "outputs": [
    {
     "name": "stderr",
     "output_type": "stream",
     "text": [
      "C:\\ProgramData\\Anaconda3\\lib\\site-packages\\ipykernel_launcher.py:4: FutureWarning: Method .as_matrix will be removed in a future version. Use .values instead.\n",
      "  after removing the cwd from sys.path.\n"
     ]
    }
   ],
   "source": [
    "# MPA@7평가 척도를 위한 준비작업\n",
    "# 고객식별번호를 추출한다.\n",
    "vld = trn[trn['fecha_dato'] == vld_date]\n",
    "ncodpers_vld = vld.as_matrix(columns=['ncodpers'])"
   ]
  },
  {
   "cell_type": "code",
   "execution_count": 47,
   "metadata": {},
   "outputs": [
    {
     "data": {
      "text/plain": [
       "(696539, 1)"
      ]
     },
     "execution_count": 47,
     "metadata": {},
     "output_type": "execute_result"
    }
   ],
   "source": [
    "ncodpers_vld.shape"
   ]
  },
  {
   "cell_type": "code",
   "execution_count": 48,
   "metadata": {},
   "outputs": [
    {
     "data": {
      "text/plain": [
       "array([[657788],\n",
       "       [657795],\n",
       "       [657790],\n",
       "       [657794],\n",
       "       [657789],\n",
       "       [657787],\n",
       "       [657777],\n",
       "       [657781],\n",
       "       [657780],\n",
       "       [657779]], dtype=int64)"
      ]
     },
     "execution_count": 48,
     "metadata": {},
     "output_type": "execute_result"
    }
   ],
   "source": [
    "ncodpers_vld[:10]"
   ]
  },
  {
   "cell_type": "code",
   "execution_count": null,
   "metadata": {},
   "outputs": [],
   "source": [
    "# vld 검증 데이터에서 신규 구매를 구한다.\n",
    "for prod in prods:\n",
    "    prev = prod + '_prev'\n",
    "    padd = prod + '_add'\n",
    "    vld[padd] = vld[prod] - vld[prev]    \n",
    "    \n",
    "add_vld = vld.as_matrix(columns=[prod + '_add' for prod in prods])  # 행렬에 결과값은 비어있다. \n",
    "add_vld_list = [list() for i in range(len(ncodpers_vld))]           # 리스트에 결과값은 비어있다. "
   ]
  },
  {
   "cell_type": "code",
   "execution_count": 50,
   "metadata": {},
   "outputs": [
    {
     "data": {
      "text/plain": [
       "(696539, 24)"
      ]
     },
     "execution_count": 50,
     "metadata": {},
     "output_type": "execute_result"
    }
   ],
   "source": [
    "add_vld.shape"
   ]
  },
  {
   "cell_type": "code",
   "execution_count": 51,
   "metadata": {},
   "outputs": [
    {
     "data": {
      "text/plain": [
       "array([[ 0.,  0.,  0.,  0.,  0.,  0.,  0.,  0.,  0.,  0.,  0.,  0.,  0.,\n",
       "         0.,  0.,  0.,  0.,  0.,  0.,  0.,  0.,  0.,  0.,  0.],\n",
       "       [ 0.,  0.,  0.,  0.,  0.,  0.,  0.,  0.,  0.,  0.,  0.,  0.,  0.,\n",
       "         0.,  0.,  0.,  0.,  0.,  0.,  0.,  0.,  0.,  0.,  0.],\n",
       "       [ 0.,  0.,  0.,  0.,  0.,  0.,  0.,  0.,  0.,  0.,  0.,  0.,  0.,\n",
       "         0.,  0.,  0.,  0.,  0.,  0.,  0.,  0.,  0.,  0.,  0.],\n",
       "       [ 0.,  0.,  0.,  0.,  0.,  0.,  0.,  0.,  0.,  0.,  0.,  0.,  0.,\n",
       "         0.,  0.,  0.,  0.,  0.,  0.,  0.,  0.,  0.,  0.,  0.],\n",
       "       [ 0.,  0.,  0.,  0.,  0.,  0.,  0.,  0.,  0.,  0.,  0.,  0.,  0.,\n",
       "         0.,  0.,  0.,  0.,  0.,  0.,  0.,  0.,  0.,  0.,  0.],\n",
       "       [ 0.,  0.,  0.,  0.,  0.,  0.,  0.,  0.,  0.,  0.,  0.,  0.,  0.,\n",
       "         0.,  0.,  0.,  0.,  0.,  0.,  0.,  0.,  0.,  0.,  0.],\n",
       "       [ 0.,  0.,  0.,  0.,  0.,  0.,  0.,  0.,  0.,  0.,  0.,  0.,  0.,\n",
       "         0.,  0.,  0.,  0.,  0.,  0.,  0.,  0.,  0.,  0.,  0.],\n",
       "       [ 0.,  0.,  0.,  0.,  0.,  0.,  0.,  0.,  0.,  0.,  0.,  0.,  0.,\n",
       "         0.,  0.,  0.,  0.,  0.,  0.,  0.,  0.,  0.,  0.,  0.],\n",
       "       [ 0.,  0.,  0.,  0.,  0.,  0.,  0.,  0.,  0.,  0.,  0.,  0.,  0.,\n",
       "         0.,  0.,  0.,  0.,  0.,  0.,  0.,  0.,  0.,  0.,  0.],\n",
       "       [ 0.,  0.,  0.,  0.,  0.,  0.,  0.,  0.,  0.,  0.,  0.,  0.,  0.,\n",
       "         0.,  0.,  0.,  0.,  0.,  0.,  0.,  0.,  0.,  0.,  0.]])"
      ]
     },
     "execution_count": 51,
     "metadata": {},
     "output_type": "execute_result"
    }
   ],
   "source": [
    "add_vld[:10,:]"
   ]
  },
  {
   "cell_type": "code",
   "execution_count": 52,
   "metadata": {},
   "outputs": [
    {
     "data": {
      "text/plain": [
       "[[], [], [], [], [], [], [], [], [], []]"
      ]
     },
     "execution_count": 52,
     "metadata": {},
     "output_type": "execute_result"
    }
   ],
   "source": [
    "add_vld_list[:10]"
   ]
  },
  {
   "cell_type": "code",
   "execution_count": 53,
   "metadata": {},
   "outputs": [],
   "source": [
    "# 고객별 신규 구매 정답 값을 add_vld_list에 저장하고, 총 count를 count_vld에 저장한다.\n",
    "# Dummy 작업 ????\n",
    "count_vld = 0\n",
    "for ncodper in range(len(ncodpers_vld)):\n",
    "    for prod in range(len(prods)):\n",
    "        if add_vld[ncodper, prod] > 0:\n",
    "            add_vld_list[ncodper].append(prod)\n",
    "            count_vld += 1"
   ]
  },
  {
   "cell_type": "code",
   "execution_count": 54,
   "metadata": {},
   "outputs": [
    {
     "data": {
      "text/plain": [
       "[[], [], [], [], []]"
      ]
     },
     "execution_count": 54,
     "metadata": {},
     "output_type": "execute_result"
    }
   ],
   "source": [
    "add_vld_list[:5]"
   ]
  },
  {
   "cell_type": "code",
   "execution_count": 55,
   "metadata": {},
   "outputs": [
    {
     "name": "stdout",
     "output_type": "stream",
     "text": [
      "0.0426637991555\n"
     ]
    }
   ],
   "source": [
    "# 검증 데이터에서 얻을 수 있는 MAP@7 최고점을 미리 구한다. (0.042663)\n",
    "print(mapk(add_vld_list, add_vld_list, 7, 0.0))"
   ]
  },
  {
   "cell_type": "code",
   "execution_count": 56,
   "metadata": {},
   "outputs": [
    {
     "data": {
      "text/plain": [
       "696539"
      ]
     },
     "execution_count": 56,
     "metadata": {},
     "output_type": "execute_result"
    }
   ],
   "source": [
    "len(add_vld_list)"
   ]
  },
  {
   "cell_type": "code",
   "execution_count": 59,
   "metadata": {},
   "outputs": [
    {
     "name": "stderr",
     "output_type": "stream",
     "text": [
      "C:\\ProgramData\\Anaconda3\\lib\\site-packages\\ipykernel_launcher.py:2: FutureWarning: Method .as_matrix will be removed in a future version. Use .values instead.\n",
      "  \n",
      "C:\\ProgramData\\Anaconda3\\lib\\site-packages\\ipykernel_launcher.py:3: FutureWarning: Method .as_matrix will be removed in a future version. Use .values instead.\n",
      "  This is separate from the ipykernel package so we can avoid doing imports until\n"
     ]
    }
   ],
   "source": [
    "# 검증 데이터에 대한 예측 값을 구한다.\n",
    "X_vld = vld.as_matrix(columns=features)\n",
    "Y_vld = vld.as_matrix(columns=['y'])\n",
    "dvld = xgb.DMatrix(X_vld, label=Y_vld, feature_names=features)\n",
    "\n",
    "preds_vld = model.predict(dvld, ntree_limit=best_ntree_limit)"
   ]
  },
  {
   "cell_type": "code",
   "execution_count": 60,
   "metadata": {},
   "outputs": [
    {
     "data": {
      "text/plain": [
       "(696539, 24)"
      ]
     },
     "execution_count": 60,
     "metadata": {},
     "output_type": "execute_result"
    }
   ],
   "source": [
    "preds_vld.shape"
   ]
  },
  {
   "cell_type": "code",
   "execution_count": 61,
   "metadata": {},
   "outputs": [
    {
     "data": {
      "text/plain": [
       "array([[  1.79764208e-06,   6.50783795e-06,   4.33127243e-05,\n",
       "          1.91678206e-04,   1.58431530e-02,   8.53669098e-06,\n",
       "          1.94710528e-03,   1.63869429e-02,   1.68497600e-02,\n",
       "          6.50783795e-06,   1.79764208e-06,   9.15754214e-03,\n",
       "          9.75837782e-02,   9.38877114e-04,   2.59925782e-05,\n",
       "          1.32443255e-03,   2.43254945e-05,   8.57609231e-03,\n",
       "          1.28952518e-01,   3.97941424e-03,   5.02492003e-05,\n",
       "          3.07504945e-02,   3.06793209e-02,   6.36669874e-01],\n",
       "       [  2.15568843e-06,   7.80404025e-06,   4.29051579e-05,\n",
       "          6.17192069e-04,   1.36247296e-02,   1.00677626e-05,\n",
       "          3.85553984e-04,   6.01040293e-03,   2.68579950e-03,\n",
       "          7.80404025e-06,   2.15568843e-06,   1.86876226e-02,\n",
       "          5.08233830e-02,   7.42097571e-03,   2.57453648e-05,\n",
       "          4.39618714e-04,   4.69803927e-05,   1.15746204e-02,\n",
       "          1.64465681e-01,   1.09242592e-02,   8.77524290e-05,\n",
       "          3.27937417e-02,   2.81337537e-02,   6.51179254e-01],\n",
       "       [  7.77323476e-06,   2.81407247e-05,   1.41125560e-01,\n",
       "          4.35476098e-03,   7.48565304e-04,   3.49516304e-05,\n",
       "          5.00079757e-03,   8.35480988e-02,   4.06400710e-01,\n",
       "          2.81407247e-05,   7.77323476e-06,   2.11361889e-02,\n",
       "          1.62191410e-03,   1.19558806e-02,   2.23944662e-03,\n",
       "          2.79120319e-02,   1.22559629e-03,   1.92795992e-01,\n",
       "          9.15244338e-04,   9.65796858e-02,   1.31051187e-04,\n",
       "          8.62673682e-04,   8.15860403e-04,   5.23170689e-04]], dtype=float32)"
      ]
     },
     "execution_count": 61,
     "metadata": {},
     "output_type": "execute_result"
    }
   ],
   "source": [
    "preds_vld[:3,:]"
   ]
  },
  {
   "cell_type": "code",
   "execution_count": 62,
   "metadata": {},
   "outputs": [
    {
     "name": "stderr",
     "output_type": "stream",
     "text": [
      "C:\\ProgramData\\Anaconda3\\lib\\site-packages\\ipykernel_launcher.py:2: FutureWarning: Method .as_matrix will be removed in a future version. Use .values instead.\n",
      "  \n"
     ]
    }
   ],
   "source": [
    "# 이전 달에 보유한 제품은 신규 구매가 불가하기 때문에, 확률값에서 미리 1을 빼준다\n",
    "preds_vld = preds_vld - vld.as_matrix(columns=[prod + '_prev' for prod in prods])"
   ]
  },
  {
   "cell_type": "code",
   "execution_count": 63,
   "metadata": {},
   "outputs": [],
   "source": [
    "# 검증 데이터 예측 상위 7개를 추출한다.\n",
    "result_vld = []\n",
    "for ncodper, pred in zip(ncodpers_vld, preds_vld):\n",
    "    y_prods = [(y,p,ip) for y,p,ip in zip(pred, prods, range(len(prods)))]\n",
    "    y_prods = sorted(y_prods, key=lambda a: a[0], reverse=True)[:7]\n",
    "    result_vld.append([ip for y,p,ip in y_prods])"
   ]
  },
  {
   "cell_type": "code",
   "execution_count": 64,
   "metadata": {},
   "outputs": [
    {
     "name": "stdout",
     "output_type": "stream",
     "text": [
      "696539\n"
     ]
    },
    {
     "data": {
      "text/plain": [
       "[[23, 18, 12, 21, 22, 8, 7],\n",
       " [23, 18, 12, 21, 22, 11, 4],\n",
       " [8, 17, 2, 19, 7, 15, 11],\n",
       " [23, 18, 12, 7, 13, 22, 21]]"
      ]
     },
     "execution_count": 64,
     "metadata": {},
     "output_type": "execute_result"
    }
   ],
   "source": [
    "print(len(result_vld))\n",
    "result_vld[:4]"
   ]
  },
  {
   "cell_type": "code",
   "execution_count": 65,
   "metadata": {},
   "outputs": [
    {
     "name": "stdout",
     "output_type": "stream",
     "text": [
      "0.0364348866095\n"
     ]
    }
   ],
   "source": [
    "# 검증 데이터에서의 MAP@7 점수를 구한다. (0.036466)\n",
    "print(mapk(add_vld_list, result_vld, 7, 0.0))"
   ]
  },
  {
   "cell_type": "code",
   "execution_count": 110,
   "metadata": {},
   "outputs": [
    {
     "data": {
      "text/plain": [
       "[[], [], [], [], [], [], [], [], [], []]"
      ]
     },
     "execution_count": 110,
     "metadata": {},
     "output_type": "execute_result"
    }
   ],
   "source": [
    "# 풀지못한 숙제 .... add_vld_list는 비어있는데... \n",
    "add_vld_list[:10] "
   ]
  },
  {
   "cell_type": "markdown",
   "metadata": {},
   "source": [
    "---\n",
    "\n",
    "### 피처 중요도를 구해보자. \n",
    "XGBoost 모델을 전체 훈련 데이터로 재학습한다!"
   ]
  },
  {
   "cell_type": "code",
   "execution_count": 66,
   "metadata": {},
   "outputs": [
    {
     "name": "stderr",
     "output_type": "stream",
     "text": [
      "C:\\ProgramData\\Anaconda3\\lib\\site-packages\\ipykernel_launcher.py:2: FutureWarning: Method .as_matrix will be removed in a future version. Use .values instead.\n",
      "  \n",
      "C:\\ProgramData\\Anaconda3\\lib\\site-packages\\ipykernel_launcher.py:3: FutureWarning: Method .as_matrix will be removed in a future version. Use .values instead.\n",
      "  This is separate from the ipykernel package so we can avoid doing imports until\n"
     ]
    }
   ],
   "source": [
    "X_all = XY.as_matrix(columns=features)\n",
    "Y_all = XY.as_matrix(columns=['y'])\n",
    "dall = xgb.DMatrix(X_all, label=Y_all, feature_names=features)\n",
    "watch_list = [(dall, 'train')]"
   ]
  },
  {
   "cell_type": "code",
   "execution_count": 67,
   "metadata": {},
   "outputs": [
    {
     "name": "stdout",
     "output_type": "stream",
     "text": [
      "[0]\ttrain-mlogloss:2.67839\n",
      "[1]\ttrain-mlogloss:2.43976\n",
      "[2]\ttrain-mlogloss:2.27317\n",
      "[3]\ttrain-mlogloss:2.14291\n",
      "[4]\ttrain-mlogloss:2.02787\n",
      "[5]\ttrain-mlogloss:1.94036\n",
      "[6]\ttrain-mlogloss:1.85989\n",
      "[7]\ttrain-mlogloss:1.79227\n",
      "[8]\ttrain-mlogloss:1.73054\n",
      "[9]\ttrain-mlogloss:1.67496\n",
      "[10]\ttrain-mlogloss:1.6265\n",
      "[11]\ttrain-mlogloss:1.58374\n",
      "[12]\ttrain-mlogloss:1.54474\n",
      "[13]\ttrain-mlogloss:1.50952\n",
      "[14]\ttrain-mlogloss:1.47667\n",
      "[15]\ttrain-mlogloss:1.44859\n",
      "[16]\ttrain-mlogloss:1.42192\n",
      "[17]\ttrain-mlogloss:1.39724\n",
      "[18]\ttrain-mlogloss:1.37631\n",
      "[19]\ttrain-mlogloss:1.35565\n",
      "[20]\ttrain-mlogloss:1.33703\n",
      "[21]\ttrain-mlogloss:1.32095\n",
      "[22]\ttrain-mlogloss:1.30465\n",
      "[23]\ttrain-mlogloss:1.2896\n",
      "[24]\ttrain-mlogloss:1.27635\n",
      "[25]\ttrain-mlogloss:1.2636\n",
      "[26]\ttrain-mlogloss:1.25174\n",
      "[27]\ttrain-mlogloss:1.24079\n",
      "[28]\ttrain-mlogloss:1.23086\n",
      "[29]\ttrain-mlogloss:1.22121\n",
      "[30]\ttrain-mlogloss:1.21248\n",
      "[31]\ttrain-mlogloss:1.20376\n",
      "[32]\ttrain-mlogloss:1.19583\n",
      "[33]\ttrain-mlogloss:1.18833\n",
      "[34]\ttrain-mlogloss:1.1815\n",
      "[35]\ttrain-mlogloss:1.17483\n",
      "[36]\ttrain-mlogloss:1.16855\n",
      "[37]\ttrain-mlogloss:1.16288\n",
      "[38]\ttrain-mlogloss:1.15736\n",
      "[39]\ttrain-mlogloss:1.15226\n",
      "[40]\ttrain-mlogloss:1.14756\n",
      "[41]\ttrain-mlogloss:1.14325\n",
      "[42]\ttrain-mlogloss:1.13864\n",
      "[43]\ttrain-mlogloss:1.13433\n",
      "[44]\ttrain-mlogloss:1.13051\n",
      "[45]\ttrain-mlogloss:1.12665\n",
      "[46]\ttrain-mlogloss:1.12306\n",
      "[47]\ttrain-mlogloss:1.11962\n",
      "[48]\ttrain-mlogloss:1.11647\n",
      "[49]\ttrain-mlogloss:1.11356\n",
      "[50]\ttrain-mlogloss:1.11075\n",
      "[51]\ttrain-mlogloss:1.1081\n",
      "[52]\ttrain-mlogloss:1.1053\n",
      "[53]\ttrain-mlogloss:1.10275\n",
      "[54]\ttrain-mlogloss:1.10035\n",
      "[55]\ttrain-mlogloss:1.09799\n",
      "[56]\ttrain-mlogloss:1.09575\n",
      "[57]\ttrain-mlogloss:1.09383\n",
      "[58]\ttrain-mlogloss:1.0918\n",
      "[59]\ttrain-mlogloss:1.08989\n",
      "[60]\ttrain-mlogloss:1.08805\n",
      "[61]\ttrain-mlogloss:1.08632\n",
      "[62]\ttrain-mlogloss:1.08456\n",
      "[63]\ttrain-mlogloss:1.08302\n",
      "[64]\ttrain-mlogloss:1.08145\n",
      "[65]\ttrain-mlogloss:1.08\n",
      "[66]\ttrain-mlogloss:1.07845\n",
      "[67]\ttrain-mlogloss:1.07709\n",
      "[68]\ttrain-mlogloss:1.07576\n",
      "[69]\ttrain-mlogloss:1.07444\n",
      "[70]\ttrain-mlogloss:1.07314\n",
      "[71]\ttrain-mlogloss:1.07197\n",
      "[72]\ttrain-mlogloss:1.07076\n",
      "[73]\ttrain-mlogloss:1.06965\n",
      "[74]\ttrain-mlogloss:1.06856\n",
      "[75]\ttrain-mlogloss:1.06756\n",
      "[76]\ttrain-mlogloss:1.06645\n",
      "[77]\ttrain-mlogloss:1.06548\n",
      "[78]\ttrain-mlogloss:1.0646\n",
      "[79]\ttrain-mlogloss:1.06364\n",
      "[80]\ttrain-mlogloss:1.06284\n",
      "[81]\ttrain-mlogloss:1.06202\n",
      "[82]\ttrain-mlogloss:1.06117\n",
      "[83]\ttrain-mlogloss:1.06028\n",
      "[84]\ttrain-mlogloss:1.05952\n",
      "[85]\ttrain-mlogloss:1.05866\n",
      "[86]\ttrain-mlogloss:1.05793\n",
      "[87]\ttrain-mlogloss:1.05718\n",
      "[88]\ttrain-mlogloss:1.05651\n",
      "[89]\ttrain-mlogloss:1.05573\n",
      "[90]\ttrain-mlogloss:1.05513\n",
      "[91]\ttrain-mlogloss:1.0545\n",
      "[92]\ttrain-mlogloss:1.05371\n",
      "[93]\ttrain-mlogloss:1.05309\n",
      "[94]\ttrain-mlogloss:1.05245\n",
      "[95]\ttrain-mlogloss:1.05188\n",
      "[96]\ttrain-mlogloss:1.05124\n",
      "[97]\ttrain-mlogloss:1.05067\n",
      "[98]\ttrain-mlogloss:1.05009\n",
      "[99]\ttrain-mlogloss:1.04957\n",
      "[100]\ttrain-mlogloss:1.04884\n",
      "[101]\ttrain-mlogloss:1.04813\n",
      "[102]\ttrain-mlogloss:1.04752\n",
      "[103]\ttrain-mlogloss:1.04685\n",
      "[104]\ttrain-mlogloss:1.04639\n",
      "[105]\ttrain-mlogloss:1.0459\n",
      "[106]\ttrain-mlogloss:1.04531\n",
      "[107]\ttrain-mlogloss:1.04479\n",
      "[108]\ttrain-mlogloss:1.04411\n",
      "[109]\ttrain-mlogloss:1.04363\n",
      "[110]\ttrain-mlogloss:1.04316\n",
      "[111]\ttrain-mlogloss:1.04275\n",
      "[112]\ttrain-mlogloss:1.04221\n",
      "[113]\ttrain-mlogloss:1.04174\n",
      "[114]\ttrain-mlogloss:1.04116\n",
      "[115]\ttrain-mlogloss:1.04069\n",
      "[116]\ttrain-mlogloss:1.04009\n",
      "[117]\ttrain-mlogloss:1.03963\n",
      "[118]\ttrain-mlogloss:1.03914\n",
      "[119]\ttrain-mlogloss:1.03867\n",
      "[120]\ttrain-mlogloss:1.03818\n",
      "[121]\ttrain-mlogloss:1.03764\n",
      "[122]\ttrain-mlogloss:1.03727\n",
      "[123]\ttrain-mlogloss:1.03681\n",
      "[124]\ttrain-mlogloss:1.03639\n",
      "[125]\ttrain-mlogloss:1.03592\n",
      "[126]\ttrain-mlogloss:1.03535\n",
      "[127]\ttrain-mlogloss:1.03489\n",
      "[128]\ttrain-mlogloss:1.03439\n",
      "[129]\ttrain-mlogloss:1.0338\n",
      "[130]\ttrain-mlogloss:1.03341\n",
      "[131]\ttrain-mlogloss:1.03291\n",
      "[132]\ttrain-mlogloss:1.03249\n",
      "[133]\ttrain-mlogloss:1.03198\n",
      "[134]\ttrain-mlogloss:1.03155\n",
      "[135]\ttrain-mlogloss:1.03094\n",
      "[136]\ttrain-mlogloss:1.03052\n",
      "[137]\ttrain-mlogloss:1.02999\n",
      "[138]\ttrain-mlogloss:1.02956\n",
      "[139]\ttrain-mlogloss:1.02915\n",
      "[140]\ttrain-mlogloss:1.02869\n",
      "[141]\ttrain-mlogloss:1.0282\n",
      "[142]\ttrain-mlogloss:1.02781\n",
      "[143]\ttrain-mlogloss:1.02741\n",
      "[144]\ttrain-mlogloss:1.02686\n",
      "[145]\ttrain-mlogloss:1.02641\n",
      "[146]\ttrain-mlogloss:1.026\n",
      "[147]\ttrain-mlogloss:1.0256\n",
      "[148]\ttrain-mlogloss:1.02513\n",
      "[149]\ttrain-mlogloss:1.02473\n",
      "[150]\ttrain-mlogloss:1.02431\n",
      "[151]\ttrain-mlogloss:1.02392\n",
      "[152]\ttrain-mlogloss:1.02347\n",
      "[153]\ttrain-mlogloss:1.02298\n",
      "[154]\ttrain-mlogloss:1.02258\n",
      "[155]\ttrain-mlogloss:1.02222\n",
      "[156]\ttrain-mlogloss:1.02178\n",
      "[157]\ttrain-mlogloss:1.02143\n",
      "[158]\ttrain-mlogloss:1.02101\n",
      "[159]\ttrain-mlogloss:1.02064\n",
      "[160]\ttrain-mlogloss:1.02025\n",
      "[161]\ttrain-mlogloss:1.01961\n",
      "[162]\ttrain-mlogloss:1.0191\n",
      "[163]\ttrain-mlogloss:1.01865\n",
      "[164]\ttrain-mlogloss:1.01829\n",
      "[165]\ttrain-mlogloss:1.01781\n",
      "[166]\ttrain-mlogloss:1.01732\n",
      "[167]\ttrain-mlogloss:1.0169\n",
      "[168]\ttrain-mlogloss:1.01637\n",
      "[169]\ttrain-mlogloss:1.01587\n",
      "[170]\ttrain-mlogloss:1.01543\n",
      "[171]\ttrain-mlogloss:1.01501\n",
      "[172]\ttrain-mlogloss:1.0146\n",
      "[173]\ttrain-mlogloss:1.01416\n",
      "[174]\ttrain-mlogloss:1.01364\n",
      "[175]\ttrain-mlogloss:1.01315\n",
      "[176]\ttrain-mlogloss:1.01272\n",
      "[177]\ttrain-mlogloss:1.01215\n",
      "[178]\ttrain-mlogloss:1.01173\n",
      "[179]\ttrain-mlogloss:1.01127\n",
      "[180]\ttrain-mlogloss:1.01087\n",
      "[181]\ttrain-mlogloss:1.01052\n",
      "[182]\ttrain-mlogloss:1.01006\n",
      "[183]\ttrain-mlogloss:1.00954\n",
      "[184]\ttrain-mlogloss:1.00901\n",
      "[185]\ttrain-mlogloss:1.00856\n",
      "[186]\ttrain-mlogloss:1.00812\n",
      "[187]\ttrain-mlogloss:1.00764\n",
      "[188]\ttrain-mlogloss:1.00717\n",
      "[189]\ttrain-mlogloss:1.00677\n",
      "[190]\ttrain-mlogloss:1.00637\n",
      "[191]\ttrain-mlogloss:1.00595\n",
      "[192]\ttrain-mlogloss:1.00559\n",
      "[193]\ttrain-mlogloss:1.00517\n",
      "[194]\ttrain-mlogloss:1.00484\n",
      "[195]\ttrain-mlogloss:1.00442\n",
      "[196]\ttrain-mlogloss:1.00396\n",
      "[197]\ttrain-mlogloss:1.00353\n",
      "[198]\ttrain-mlogloss:1.00313\n",
      "[199]\ttrain-mlogloss:1.00269\n",
      "[200]\ttrain-mlogloss:1.00232\n",
      "[201]\ttrain-mlogloss:1.00193\n",
      "[202]\ttrain-mlogloss:1.00144\n",
      "[203]\ttrain-mlogloss:1.00106\n",
      "[204]\ttrain-mlogloss:1.00074\n",
      "[205]\ttrain-mlogloss:1.00034\n",
      "[206]\ttrain-mlogloss:1.00004\n",
      "[207]\ttrain-mlogloss:0.999656\n",
      "[208]\ttrain-mlogloss:0.999292\n",
      "[209]\ttrain-mlogloss:0.998925\n",
      "[210]\ttrain-mlogloss:0.998569\n",
      "[211]\ttrain-mlogloss:0.998172\n",
      "[212]\ttrain-mlogloss:0.997676\n",
      "[213]\ttrain-mlogloss:0.997264\n",
      "[214]\ttrain-mlogloss:0.99682\n",
      "[215]\ttrain-mlogloss:0.996497\n",
      "[216]\ttrain-mlogloss:0.996233\n",
      "[217]\ttrain-mlogloss:0.995892\n",
      "[218]\ttrain-mlogloss:0.995463\n",
      "[219]\ttrain-mlogloss:0.994924\n",
      "[220]\ttrain-mlogloss:0.994468\n",
      "[221]\ttrain-mlogloss:0.994007\n",
      "[222]\ttrain-mlogloss:0.993591\n",
      "[223]\ttrain-mlogloss:0.993309\n",
      "[224]\ttrain-mlogloss:0.992814\n",
      "[225]\ttrain-mlogloss:0.992348\n",
      "[226]\ttrain-mlogloss:0.992002\n",
      "[227]\ttrain-mlogloss:0.991576\n",
      "[228]\ttrain-mlogloss:0.991182\n",
      "[229]\ttrain-mlogloss:0.990788\n",
      "[230]\ttrain-mlogloss:0.990334\n",
      "[231]\ttrain-mlogloss:0.990047\n",
      "[232]\ttrain-mlogloss:0.989638\n",
      "[233]\ttrain-mlogloss:0.98928\n",
      "[234]\ttrain-mlogloss:0.988834\n",
      "[235]\ttrain-mlogloss:0.988371\n",
      "[236]\ttrain-mlogloss:0.987989\n",
      "[237]\ttrain-mlogloss:0.987665\n",
      "[238]\ttrain-mlogloss:0.987179\n",
      "[239]\ttrain-mlogloss:0.986798\n",
      "[240]\ttrain-mlogloss:0.986323\n",
      "[241]\ttrain-mlogloss:0.985854\n",
      "[242]\ttrain-mlogloss:0.985593\n",
      "[243]\ttrain-mlogloss:0.985203\n",
      "[244]\ttrain-mlogloss:0.984825\n",
      "[245]\ttrain-mlogloss:0.984389\n",
      "[246]\ttrain-mlogloss:0.983883\n",
      "[247]\ttrain-mlogloss:0.983443\n",
      "[248]\ttrain-mlogloss:0.983097\n",
      "[249]\ttrain-mlogloss:0.982688\n",
      "[250]\ttrain-mlogloss:0.982397\n",
      "[251]\ttrain-mlogloss:0.981984\n",
      "[252]\ttrain-mlogloss:0.981519\n",
      "[253]\ttrain-mlogloss:0.981088\n",
      "[254]\ttrain-mlogloss:0.980646\n",
      "[255]\ttrain-mlogloss:0.980312\n",
      "[256]\ttrain-mlogloss:0.979879\n",
      "[257]\ttrain-mlogloss:0.979559\n",
      "[258]\ttrain-mlogloss:0.97909\n",
      "[259]\ttrain-mlogloss:0.978673\n",
      "[260]\ttrain-mlogloss:0.978327\n",
      "[261]\ttrain-mlogloss:0.97792\n",
      "[262]\ttrain-mlogloss:0.977636\n",
      "[263]\ttrain-mlogloss:0.977372\n",
      "[264]\ttrain-mlogloss:0.977096\n",
      "[265]\ttrain-mlogloss:0.976703\n",
      "[266]\ttrain-mlogloss:0.976346\n",
      "[267]\ttrain-mlogloss:0.976032\n",
      "[268]\ttrain-mlogloss:0.975671\n",
      "[269]\ttrain-mlogloss:0.975294\n",
      "[270]\ttrain-mlogloss:0.975063\n",
      "[271]\ttrain-mlogloss:0.974797\n"
     ]
    }
   ],
   "source": [
    "# 트리 개수를 늘어난 데이터 양만큼 비례해서 증가한다.\n",
    "best_ntree_limit = int(best_ntree_limit * (len(XY_trn) + len(XY_vld)) / len(XY_trn))\n",
    "# XGBoost 모델 재학습!\n",
    "model = xgb.train(param, dall, num_boost_round=best_ntree_limit, evals=watch_list)"
   ]
  },
  {
   "cell_type": "code",
   "execution_count": 68,
   "metadata": {},
   "outputs": [
    {
     "name": "stdout",
     "output_type": "stream",
     "text": [
      "Feature importance:\n",
      "('renta', 25827)\n",
      "('antiguedad', 25019)\n",
      "('age', 23558)\n",
      "('antiguedad_prev', 18492)\n",
      "('age_prev', 16147)\n",
      "('nomprov', 14134)\n",
      "('renta_prev', 11106)\n",
      "('canal_entrada', 10354)\n",
      "('nomprov_prev', 8040)\n",
      "('canal_entrada_prev', 5789)\n",
      "('ind_recibo_ult1_prev', 4041)\n",
      "('sexo', 4003)\n",
      "('ind_ecue_fin_ult1_prev', 3560)\n",
      "('ind_cco_fin_ult1_prev', 3475)\n",
      "('ind_cno_fin_ult1_prev', 3219)\n",
      "('segmento', 2617)\n",
      "('ind_reca_fin_ult1_prev', 2505)\n",
      "('ind_tjcr_fin_ult1_prev', 2479)\n",
      "('segmento_prev', 2263)\n",
      "('tiprel_1mes', 1866)\n",
      "('ind_ctop_fin_ult1_prev', 1804)\n",
      "('ind_valo_fin_ult1_prev', 1785)\n",
      "('ind_nom_pens_ult1_prev', 1775)\n",
      "('ind_dela_fin_ult1_prev', 1732)\n",
      "('ind_nomina_ult1_prev', 1695)\n",
      "('sexo_prev', 1653)\n",
      "('ind_ctpp_fin_ult1_prev', 1424)\n",
      "('ind_actividad_cliente', 1400)\n",
      "('tiprel_1mes_prev', 1341)\n",
      "('ind_fond_fin_ult1_prev', 1120)\n",
      "('ind_actividad_cliente_prev', 1022)\n",
      "('ind_ctma_fin_ult1_prev', 1021)\n",
      "('ind_nuevo', 934)\n",
      "('indext', 914)\n",
      "('ind_plan_fin_ult1_prev', 696)\n",
      "('ind_hip_fin_ult1_prev', 603)\n",
      "('ind_nuevo_prev', 580)\n",
      "('indrel_1mes', 473)\n",
      "('indext_prev', 465)\n",
      "('ind_deco_fin_ult1_prev', 441)\n",
      "('pais_residencia', 309)\n",
      "('indrel_1mes_prev', 265)\n",
      "('ind_empleado_prev', 254)\n",
      "('pais_residencia_prev', 197)\n",
      "('indrel', 196)\n",
      "('ind_viv_fin_ult1_prev', 170)\n",
      "('ind_empleado', 163)\n",
      "('ind_pres_fin_ult1_prev', 111)\n",
      "('ind_deme_fin_ult1_prev', 107)\n",
      "('ind_ctju_fin_ult1_prev', 93)\n",
      "('ult_fec_cli_1t_month', 62)\n",
      "('ind_cder_fin_ult1_prev', 45)\n",
      "('indfall', 38)\n",
      "('conyuemp_prev', 33)\n",
      "('indfall_prev', 23)\n",
      "('indresi', 23)\n",
      "('ult_fec_cli_1t_year', 23)\n",
      "('indresi_prev', 6)\n",
      "('ult_fec_cli_1t_year_prev', 4)\n"
     ]
    }
   ],
   "source": [
    "# 변수 중요도를 출력해본다. 예상하던 변수가 상위로 올라와 있는가?\n",
    "print(\"Feature importance:\")\n",
    "for kv in sorted([(k,v) for k,v in model.get_fscore().items()], key=lambda kv: kv[1], reverse=True):\n",
    "    print(kv)"
   ]
  },
  {
   "cell_type": "markdown",
   "metadata": {},
   "source": [
    "#### TOP 20 피처\n",
    "('renta', 25827) : 가구 총수입  \n",
    "('antiguedad', 25019) : 은행 누적 거래기간(월)  \n",
    "('age', 23558) : 연령  \n",
    "('antiguedad_prev', 18492) : 은행 누적 거래기간(월) lag-1  \n",
    "('age_prev', 16147) : 연령 lag-1  \n",
    "('nomprov', 14134) : 지방 이름(factorize, label encoding)  \n",
    "('renta_prev', 11106) : 가구 총수익 lag-1  \n",
    "('canal_entrada', 10354) : 고객 유입 채널  \n",
    "('nomprov_prev', 8040) : 지방 이름 lag-1  \n",
    "('canal_entrada_prev', 5789) : 고객 유입 채널  \n",
    "('ind_recibo_ult1_prev', 4041) : 직불카드 거래여부  lag-1  \n",
    "('sexo', 4003) : 성별  \n",
    "('ind_ecue_fin_ult1_prev', 3560) : e-계정 거래여부 lag-1  \n",
    "('ind_cco_fin_ult1_prev', 3475) : 당좌예금 거래여부 lag-1  \n",
    "('ind_cno_fin_ult1_prev', 3219) : 급여계정 거래여부 lag-1  \n",
    "('segmento', 2617) : 고객분류(VIP, 개인, 대졸-학자금대출?)  \n",
    "('ind_reca_fin_ult1_prev', 2505) : 세금 lag-1  \n",
    "('ind_tjcr_fin_ult1_prev', 2479) : 신용카드 거래여부 lag-1  "
   ]
  },
  {
   "cell_type": "markdown",
   "metadata": {},
   "source": [
    "---\n",
    "### Baseline 모델의 마지막 여정. 캐글 제출을 위하여 테스트 데이터에 대한 예측 값을 구한다."
   ]
  },
  {
   "cell_type": "code",
   "execution_count": 69,
   "metadata": {},
   "outputs": [
    {
     "name": "stderr",
     "output_type": "stream",
     "text": [
      "C:\\ProgramData\\Anaconda3\\lib\\site-packages\\ipykernel_launcher.py:2: FutureWarning: Method .as_matrix will be removed in a future version. Use .values instead.\n",
      "  \n",
      "C:\\ProgramData\\Anaconda3\\lib\\site-packages\\ipykernel_launcher.py:5: FutureWarning: Method .as_matrix will be removed in a future version. Use .values instead.\n",
      "  \"\"\"\n",
      "C:\\ProgramData\\Anaconda3\\lib\\site-packages\\ipykernel_launcher.py:6: FutureWarning: Method .as_matrix will be removed in a future version. Use .values instead.\n",
      "  \n"
     ]
    }
   ],
   "source": [
    "X_tst = tst.as_matrix(columns=features)\n",
    "dtst = xgb.DMatrix(X_tst, feature_names=features)\n",
    "preds_tst = model.predict(dtst, ntree_limit=best_ntree_limit)\n",
    "\n",
    "ncodpers_tst = tst.as_matrix(columns=['ncodpers'])\n",
    "preds_tst = preds_tst - tst.as_matrix(columns=[prod + '_prev' for prod in prods])"
   ]
  },
  {
   "cell_type": "code",
   "execution_count": 92,
   "metadata": {},
   "outputs": [
    {
     "name": "stdout",
     "output_type": "stream",
     "text": [
      "(929615, 24)\n"
     ]
    },
    {
     "data": {
      "text/plain": [
       "array([[  1.13725691e-05,   1.13725691e-05,  -9.99889271e-01,\n",
       "          2.19470891e-03,   1.17776617e-02,   1.88844297e-05,\n",
       "          6.22055028e-04,   1.26772400e-04,  -9.99619867e-01,\n",
       "          1.13725691e-05,   1.73300612e-06,   6.50715875e-03,\n",
       "          2.56516904e-01,   1.64239705e-02,   1.70405707e-04,\n",
       "          1.54621666e-03,   3.73873772e-04,   2.34813746e-02,\n",
       "         -9.99633452e-01,  -9.99122573e-01,   1.30338361e-04,\n",
       "          2.44651679e-02,   2.94533819e-02,   6.24420404e-01],\n",
       "       [  4.02542082e-06,   4.02542082e-06,  -9.99972275e-01,\n",
       "          3.69612353e-05,   5.53940609e-02,   6.08684695e-06,\n",
       "          8.42952868e-04,   4.36639712e-05,   6.90309535e-05,\n",
       "          4.02542082e-06,   6.13412681e-07,   1.22994219e-03,\n",
       "          1.98272932e-02,   1.26017621e-04,   1.59868650e-05,\n",
       "          1.03820828e-04,   3.13265009e-05,   3.43917720e-02,\n",
       "          1.13380770e-03,   4.00778692e-04,   9.82348047e-06,\n",
       "          5.29003590e-02,   3.74452733e-02,   7.95950651e-01],\n",
       "       [  3.57537942e-06,   3.57537942e-06,  -9.99974374e-01,\n",
       "          6.85366922e-06,   3.72399800e-02,   4.99709495e-06,\n",
       "          2.41508969e-04,   1.45644090e-05,   1.85975969e-05,\n",
       "          3.57537942e-06,   5.44833256e-07,   6.99606840e-04,\n",
       "          2.93500139e-03,   1.13329719e-04,   1.97282461e-05,\n",
       "          2.49955792e-05,   1.91484069e-05,   7.92856049e-03,\n",
       "          6.77243061e-03,   1.86043733e-03,   1.20189561e-05,\n",
       "          3.37175950e-02,   3.66190523e-02,   8.71714652e-01]])"
      ]
     },
     "execution_count": 92,
     "metadata": {},
     "output_type": "execute_result"
    }
   ],
   "source": [
    "print(preds_tst.shape)\n",
    "preds_tst[:3,:]"
   ]
  },
  {
   "cell_type": "code",
   "execution_count": null,
   "metadata": {},
   "outputs": [],
   "source": [
    "# 캐글에서 정의한 양식에 맞추어 제출 파일을 생성한다.\n",
    "# 파일과 헤더를 생성한다\n",
    "submit_file = open('../model/xgb.baseline.2015-06-28', 'w')\n",
    "submit_file.write('ncodpers,added_products\\n')"
   ]
  },
  {
   "cell_type": "code",
   "execution_count": 94,
   "metadata": {},
   "outputs": [],
   "source": [
    "# 고객번호마다 7개의 추천 금융상품 명을 넣는다. \n",
    "for ncodper, pred in zip(ncodpers_tst, preds_tst):\n",
    "    y_prods = [(y,p,ip) for y,p,ip in zip(pred, prods, range(len(prods)))]\n",
    "    y_prods = sorted(y_prods, key=lambda a: a[0], reverse=True)[:7]\n",
    "    y_prods = [p for y,p,ip in y_prods]\n",
    "    submit_file.write('{},{}\\n'.format(int(ncodper), ' '.join(y_prods)))"
   ]
  },
  {
   "cell_type": "code",
   "execution_count": 98,
   "metadata": {},
   "outputs": [
    {
     "data": {
      "text/html": [
       "<div>\n",
       "<style scoped>\n",
       "    .dataframe tbody tr th:only-of-type {\n",
       "        vertical-align: middle;\n",
       "    }\n",
       "\n",
       "    .dataframe tbody tr th {\n",
       "        vertical-align: top;\n",
       "    }\n",
       "\n",
       "    .dataframe thead th {\n",
       "        text-align: right;\n",
       "    }\n",
       "</style>\n",
       "<table border=\"1\" class=\"dataframe\">\n",
       "  <thead>\n",
       "    <tr style=\"text-align: right;\">\n",
       "      <th></th>\n",
       "      <th>ncodpers</th>\n",
       "      <th>added_products</th>\n",
       "    </tr>\n",
       "  </thead>\n",
       "  <tbody>\n",
       "    <tr>\n",
       "      <th>0</th>\n",
       "      <td>15889</td>\n",
       "      <td>ind_recibo_ult1 ind_ecue_fin_ult1 ind_nom_pens...</td>\n",
       "    </tr>\n",
       "    <tr>\n",
       "      <th>1</th>\n",
       "      <td>1170544</td>\n",
       "      <td>ind_recibo_ult1 ind_cno_fin_ult1 ind_nomina_ul...</td>\n",
       "    </tr>\n",
       "    <tr>\n",
       "      <th>2</th>\n",
       "      <td>1170545</td>\n",
       "      <td>ind_recibo_ult1 ind_cno_fin_ult1 ind_nom_pens_...</td>\n",
       "    </tr>\n",
       "    <tr>\n",
       "      <th>3</th>\n",
       "      <td>1170547</td>\n",
       "      <td>ind_recibo_ult1 ind_nomina_ult1 ind_cno_fin_ul...</td>\n",
       "    </tr>\n",
       "    <tr>\n",
       "      <th>4</th>\n",
       "      <td>1170548</td>\n",
       "      <td>ind_recibo_ult1 ind_nom_pens_ult1 ind_cno_fin_...</td>\n",
       "    </tr>\n",
       "  </tbody>\n",
       "</table>\n",
       "</div>"
      ],
      "text/plain": [
       "   ncodpers                                     added_products\n",
       "0     15889  ind_recibo_ult1 ind_ecue_fin_ult1 ind_nom_pens...\n",
       "1   1170544  ind_recibo_ult1 ind_cno_fin_ult1 ind_nomina_ul...\n",
       "2   1170545  ind_recibo_ult1 ind_cno_fin_ult1 ind_nom_pens_...\n",
       "3   1170547  ind_recibo_ult1 ind_nomina_ult1 ind_cno_fin_ul...\n",
       "4   1170548  ind_recibo_ult1 ind_nom_pens_ult1 ind_cno_fin_..."
      ]
     },
     "execution_count": 98,
     "metadata": {},
     "output_type": "execute_result"
    }
   ],
   "source": [
    "# 제출 파일 눈으로 확인하기\n",
    "pd.read_csv('model/xgb.baseline.2015-06-28', nrows=5)"
   ]
  },
  {
   "cell_type": "markdown",
   "metadata": {},
   "source": [
    "--- \n",
    "\n",
    "### 느낀 점\n",
    "\n",
    "- 역시 캐글. 난이도도 상당하고 코드 작성 기술도 배울 점이 많다.\n",
    "- 파이썬 기본 문법을 잘 이해하고 활용하자. lambda, map, sort, join, ...\n",
    "- 메모리 효율적 관리 : 정수형 저장, 중간마다 불필요한 데이터 즉시 삭제\n",
    "- 정말로 중요한 것 : 피처엔지니어링, 도메인 지식. 모델링 기법은 거들 뿐"
   ]
  },
  {
   "cell_type": "markdown",
   "metadata": {},
   "source": [
    "---\n",
    "\n",
    "### 비판적 사고\n",
    "\n",
    "- 내가 알고 있다고 남도 아는 것은 아니다 : 책이 아마도 본인의 강의와 분석 경험을 그대로 옮겨 놓은 듯. 텍스트로만 접하는 독자에게 완결성은 상당히 부족하다.\n",
    "- 코드를 함축적으로 짠다고 반드시 좋은 것인지? (파이썬 날코드, list comprehension) vs (Pandas, Numpy)\n",
    "- 훈련, 검증 데이터 생성 과정을 간소화 할 수 없을까?"
   ]
  },
  {
   "cell_type": "markdown",
   "metadata": {},
   "source": [
    "---\n",
    "\n",
    "### 남아있는 숙제\n",
    "\n",
    "- baseline model을 넘어서 -> 8등 소스코드 해석하기\n",
    "- 데이터 세트 분리 엄청 복잡. 체계적으로 이해 필요 : trn, tst, lag, xy, x, y, ........ ㅠ.ㅠ\n",
    "- 피처 엔지니어링 사례 추가 연구  \n",
    "- multiclass 예측 방법론 연구 + binary 예측 모델을 여러 개 구성하는 것과 장단점\n",
    "- 머신러닝 : xgboost, lgbm 공부. random forest 등 다른 모델과의 예측 성능 비교\n",
    "- 과제별 모델성과 측정방법 연구 : (예) MAPK@7"
   ]
  }
 ],
 "metadata": {
  "kernelspec": {
   "display_name": "Python 3",
   "language": "python",
   "name": "python3"
  },
  "language_info": {
   "codemirror_mode": {
    "name": "ipython",
    "version": 3
   },
   "file_extension": ".py",
   "mimetype": "text/x-python",
   "name": "python",
   "nbconvert_exporter": "python",
   "pygments_lexer": "ipython3",
   "version": "3.6.4"
  }
 },
 "nbformat": 4,
 "nbformat_minor": 2
}
